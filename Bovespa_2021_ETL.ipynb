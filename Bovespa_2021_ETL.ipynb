{
 "cells": [
  {
   "cell_type": "markdown",
   "metadata": {},
   "source": [
    "<h1><center>EXTRAÇÃO, TRATAMENTO E MODELAGEM DOS DADOS DA BOLSA DE VALORES BRASILEIRA"
   ]
  },
  {
   "cell_type": "markdown",
   "metadata": {},
   "source": [
    "<P>O objetivo deste artigo é ensinar passo a passo como extrair e modelar os dados da bolsa de valores, utilizando a linguagem de programação Python e a biblioteca Pandas. Então, o primeiro passo é entender que tipo de dados estamos procurando. Porque, dentro do site da B3, exitem diversos DataSets para análise.\n",
    "Sugiro pesquisar no site oficial as opções disponíveis: https://www.b3.com.br/pt_br/market-data-e-indices/servicos-de-dados/market-data/historico/\n",
    "Aqui, utilizaremos os dados do último mês disponível (07/2022) e posteriormente vamos automatizar o código que faremos hoje, para que ele seja atualizado automaticamente.\n",
    "\n",
    "<img src='txt_img_0722.jpg'></img>\n",
    "\n",
    "Temos então, um arquivo txt com dados semiestruturados pois, eles não possuem uma estrutura clara porém, possuem delimitações que permitirão a estruturação dos dados para utilização por exemplo, no Power BI ou Excell.\n",
    "Lembrando que este é um estudo da linguagem Python, vamos começar importando a biblioteca Pandas, que será a única utilizada neste artigo.\n",
    "Não se esqueça de instalar a biblioteca dentro do seu editor de códigos.\n"
   ]
  },
  {
   "cell_type": "code",
   "execution_count": 621,
   "metadata": {},
   "outputs": [],
   "source": [
    "import pandas as pd"
   ]
  },
  {
   "cell_type": "markdown",
   "metadata": {},
   "source": [
    "Antes de importar os dados, precisamos saber quais dados nós estamos procurando e quais dados estão disponíveis no arquivo TXT. Para isso, existe uma documentação chamada de Layout cujas informações nortearão nossa busca. No caso da Bovespa, existe um arquivo pdf disponível na página de históricos.\n",
    "Para este artigo, utilizaremos:\n",
    "- A data do Pregão;\n",
    "- O código da ação;\n",
    "- O nome da empresa;\n",
    "- O preço de abertura das ações;\n",
    "- O preço máximo negociado;\n",
    "- O preço mínimo negociado;\n",
    "- O preço de fechamento das ações;\n",
    "- A quantidade de negócios;\n",
    "- O volume financeiro negociado;\n",
    "\n",
    "Também, no caso das ações da Bovespa e para o nosso estudo, precisamos entender que os dados relevantes serão as negociações por lote padrão. Entretanto, poderíamos por exemplo, buscar também as negociações no mercado fracionário afim de estudar correlações entre os mercados. Por fim, entendemos que o arquivo da Bovespa trata-se de um arquivo de dados em formato de largura fixa então, neste artigo iremos uilizar a função read.fwf para importar os dados que vamos utilizar.\n",
    "Para começar, vamos criar duas listas, uma contendo os valores da largura do texto do nosso DataSet e outra com os nomes das variáveis que deverão receber esses valores.\n",
    "\n",
    "\n"
   ]
  },
  {
   "cell_type": "code",
   "execution_count": 622,
   "metadata": {},
   "outputs": [],
   "source": [
    "table = [(2,10), (10,12), (12,24), (27,39), (56,69),(69,82),(82,95),(108,121),(152,170),(170,188)]\n",
    "\n",
    "name_table = ['data_pregao','cod_bdi', 'cod_acao', 'nome_emp', 'preco_abertura', 'preco_maximo', 'preco_minimo', \n",
    "'preco_fechamento', 'qtd_negocios', 'vol_financeiro']\n"
   ]
  },
  {
   "cell_type": "markdown",
   "metadata": {},
   "source": [
    "Importante! As informações da variável 'table' foram fornecidas pelo pdf com as informações de layout citadas anteriormente neste artigo.\n",
    "\n",
    "Finalmente, podemos aplicar o método read fwf para importar os dados necessários e criar o nosso DataFrame."
   ]
  },
  {
   "cell_type": "code",
   "execution_count": 623,
   "metadata": {},
   "outputs": [],
   "source": [
    "\n",
    "df_table = pd.read_fwf(\"hist_ult12meses_a_vista_072022.txt\", colspecs = table, names = name_table, skiprows=1)\n",
    "\n"
   ]
  },
  {
   "cell_type": "markdown",
   "metadata": {},
   "source": [
    "Já temos o nosso primeiro DataBase, podemos notar que ainda não é uma tabela pronta para usarmos em análises pois, existe ainda muita informação não filtradas. Então, nesta primeira parte da limpeza dos dados, vamos filtrar o 'cod_bdi' que, conforme explicado no arquivo de layout, traz o filtro de mercado à vista que são os valores que queremos analisar."
   ]
  },
  {
   "cell_type": "code",
   "execution_count": 624,
   "metadata": {},
   "outputs": [],
   "source": [
    "df_table = df_table[df_table['cod_bdi'] == 2]\n",
    "display(df_table)"
   ]
  },
  {
   "cell_type": "markdown",
   "metadata": {},
   "source": [
    "Agora, temos a tabela com os valores que desejamos utilizar. Portanto, vamos fazer alguns tratamentos para limpar os dados e corrigir os tipos dos valores importados. Porque, apesar dos valores já estarem organizados em colunas, a formatação ainda está errada então, vamos transformar os valores de data em data, excluir o cod_bdi que já utilizamos e transformar os números para a tipagem correta."
   ]
  },
  {
   "cell_type": "code",
   "execution_count": 625,
   "metadata": {},
   "outputs": [],
   "source": [
    "df_table = df_table.drop(['cod_bdi'], axis=1)\n",
    "df_table['data_pregao'] = pd.to_datetime(df_table['data_pregao'], format='%Y%m%d')\n",
    "df_table['preco_abertura'] = (df_table['preco_abertura']/100).astype(float)\n",
    "df_table['preco_maximo'] = (df_table['preco_maximo']/100).astype(float)\n",
    "df_table['preco_minimo'] = (df_table['preco_minimo']/100).astype(float)\n",
    "df_table['preco_fechamento'] = (df_table['preco_fechamento']/100).astype(float)\n",
    "df_table['qtd_negocios'] = df_table['qtd_negocios'].astype(int)\n",
    "df_table['vol_financeiro'] = df_table['vol_financeiro'].astype(int)\n",
    "df_table['nome_emp'] = df_table['nome_emp'].astype(str)\n"
   ]
  },
  {
   "cell_type": "markdown",
   "metadata": {},
   "source": [
    "Concluímos a primeira parte da nossa tarefa de extração dos dados.\n",
    "Vou criar uma nova variável, contendo as informações desta tabela para continuar com a limpeza dos dados. Faço isso, para o caso de precisar verificar a tabela inicial em algum momento porque assim, sempre tenho as primeiras informações disponíveis."
   ]
  },
  {
   "cell_type": "code",
   "execution_count": 626,
   "metadata": {},
   "outputs": [
    {
     "data": {
      "text/html": [
       "<div>\n",
       "<style scoped>\n",
       "    .dataframe tbody tr th:only-of-type {\n",
       "        vertical-align: middle;\n",
       "    }\n",
       "\n",
       "    .dataframe tbody tr th {\n",
       "        vertical-align: top;\n",
       "    }\n",
       "\n",
       "    .dataframe thead th {\n",
       "        text-align: right;\n",
       "    }\n",
       "</style>\n",
       "<table border=\"1\" class=\"dataframe\">\n",
       "  <thead>\n",
       "    <tr style=\"text-align: right;\">\n",
       "      <th></th>\n",
       "      <th>data_pregao</th>\n",
       "      <th>cod_acao</th>\n",
       "      <th>nome_emp</th>\n",
       "      <th>preco_abertura</th>\n",
       "      <th>preco_maximo</th>\n",
       "      <th>preco_minimo</th>\n",
       "      <th>preco_fechamento</th>\n",
       "      <th>qtd_negocios</th>\n",
       "      <th>vol_financeiro</th>\n",
       "    </tr>\n",
       "  </thead>\n",
       "  <tbody>\n",
       "    <tr>\n",
       "      <th>1</th>\n",
       "      <td>2022-07-01</td>\n",
       "      <td>A1BB34</td>\n",
       "      <td>ABB LTD</td>\n",
       "      <td>35.68</td>\n",
       "      <td>35.68</td>\n",
       "      <td>35.68</td>\n",
       "      <td>35.68</td>\n",
       "      <td>0</td>\n",
       "      <td>7130</td>\n",
       "    </tr>\n",
       "    <tr>\n",
       "      <th>2</th>\n",
       "      <td>2022-07-01</td>\n",
       "      <td>A1CR34</td>\n",
       "      <td>AMCOR PLC</td>\n",
       "      <td>66.25</td>\n",
       "      <td>66.25</td>\n",
       "      <td>66.25</td>\n",
       "      <td>66.25</td>\n",
       "      <td>1690</td>\n",
       "      <td>11196250</td>\n",
       "    </tr>\n",
       "    <tr>\n",
       "      <th>3</th>\n",
       "      <td>2022-07-01</td>\n",
       "      <td>A1EE34</td>\n",
       "      <td>AMEREN CORP</td>\n",
       "      <td>245.00</td>\n",
       "      <td>245.00</td>\n",
       "      <td>245.00</td>\n",
       "      <td>245.00</td>\n",
       "      <td>10</td>\n",
       "      <td>392000</td>\n",
       "    </tr>\n",
       "    <tr>\n",
       "      <th>4</th>\n",
       "      <td>2022-07-01</td>\n",
       "      <td>A1FL34</td>\n",
       "      <td>AFLAC INC</td>\n",
       "      <td>295.51</td>\n",
       "      <td>295.51</td>\n",
       "      <td>295.51</td>\n",
       "      <td>295.51</td>\n",
       "      <td>0</td>\n",
       "      <td>59100</td>\n",
       "    </tr>\n",
       "    <tr>\n",
       "      <th>5</th>\n",
       "      <td>2022-07-01</td>\n",
       "      <td>A1GN34</td>\n",
       "      <td>ALLEGION PLC</td>\n",
       "      <td>261.04</td>\n",
       "      <td>261.04</td>\n",
       "      <td>261.04</td>\n",
       "      <td>261.04</td>\n",
       "      <td>0</td>\n",
       "      <td>52200</td>\n",
       "    </tr>\n",
       "    <tr>\n",
       "      <th>...</th>\n",
       "      <td>...</td>\n",
       "      <td>...</td>\n",
       "      <td>...</td>\n",
       "      <td>...</td>\n",
       "      <td>...</td>\n",
       "      <td>...</td>\n",
       "      <td>...</td>\n",
       "      <td>...</td>\n",
       "      <td>...</td>\n",
       "    </tr>\n",
       "    <tr>\n",
       "      <th>35053</th>\n",
       "      <td>2022-07-29</td>\n",
       "      <td>KHCB34</td>\n",
       "      <td>KRAFT HEINZ</td>\n",
       "      <td>47.69</td>\n",
       "      <td>47.91</td>\n",
       "      <td>47.26</td>\n",
       "      <td>47.56</td>\n",
       "      <td>26890</td>\n",
       "      <td>128178000</td>\n",
       "    </tr>\n",
       "    <tr>\n",
       "      <th>35057</th>\n",
       "      <td>2022-07-29</td>\n",
       "      <td>KLBN3</td>\n",
       "      <td>KLABIN S/A</td>\n",
       "      <td>4.00</td>\n",
       "      <td>4.17</td>\n",
       "      <td>3.95</td>\n",
       "      <td>4.15</td>\n",
       "      <td>450100</td>\n",
       "      <td>183681900</td>\n",
       "    </tr>\n",
       "    <tr>\n",
       "      <th>35059</th>\n",
       "      <td>2022-07-29</td>\n",
       "      <td>KLBN4</td>\n",
       "      <td>KLABIN S/A</td>\n",
       "      <td>3.88</td>\n",
       "      <td>4.03</td>\n",
       "      <td>3.84</td>\n",
       "      <td>4.00</td>\n",
       "      <td>1326200</td>\n",
       "      <td>525096100</td>\n",
       "    </tr>\n",
       "    <tr>\n",
       "      <th>35061</th>\n",
       "      <td>2022-07-29</td>\n",
       "      <td>KLBN11</td>\n",
       "      <td>KLABIN S/A</td>\n",
       "      <td>19.37</td>\n",
       "      <td>20.25</td>\n",
       "      <td>19.30</td>\n",
       "      <td>19.93</td>\n",
       "      <td>6559200</td>\n",
       "      <td>-2147483648</td>\n",
       "    </tr>\n",
       "    <tr>\n",
       "      <th>35063</th>\n",
       "      <td>2022-07-29</td>\n",
       "      <td>KMIC34</td>\n",
       "      <td>KINDER MORGA</td>\n",
       "      <td>92.70</td>\n",
       "      <td>93.86</td>\n",
       "      <td>92.43</td>\n",
       "      <td>92.43</td>\n",
       "      <td>290</td>\n",
       "      <td>2722950</td>\n",
       "    </tr>\n",
       "  </tbody>\n",
       "</table>\n",
       "<p>17607 rows × 9 columns</p>\n",
       "</div>"
      ],
      "text/plain": [
       "      data_pregao cod_acao      nome_emp  preco_abertura  preco_maximo  \\\n",
       "1      2022-07-01   A1BB34       ABB LTD           35.68         35.68   \n",
       "2      2022-07-01   A1CR34     AMCOR PLC           66.25         66.25   \n",
       "3      2022-07-01   A1EE34   AMEREN CORP          245.00        245.00   \n",
       "4      2022-07-01   A1FL34     AFLAC INC          295.51        295.51   \n",
       "5      2022-07-01   A1GN34  ALLEGION PLC          261.04        261.04   \n",
       "...           ...      ...           ...             ...           ...   \n",
       "35053  2022-07-29   KHCB34   KRAFT HEINZ           47.69         47.91   \n",
       "35057  2022-07-29    KLBN3    KLABIN S/A            4.00          4.17   \n",
       "35059  2022-07-29    KLBN4    KLABIN S/A            3.88          4.03   \n",
       "35061  2022-07-29   KLBN11    KLABIN S/A           19.37         20.25   \n",
       "35063  2022-07-29   KMIC34  KINDER MORGA           92.70         93.86   \n",
       "\n",
       "       preco_minimo  preco_fechamento  qtd_negocios  vol_financeiro  \n",
       "1             35.68             35.68             0            7130  \n",
       "2             66.25             66.25          1690        11196250  \n",
       "3            245.00            245.00            10          392000  \n",
       "4            295.51            295.51             0           59100  \n",
       "5            261.04            261.04             0           52200  \n",
       "...             ...               ...           ...             ...  \n",
       "35053         47.26             47.56         26890       128178000  \n",
       "35057          3.95              4.15        450100       183681900  \n",
       "35059          3.84              4.00       1326200       525096100  \n",
       "35061         19.30             19.93       6559200     -2147483648  \n",
       "35063         92.43             92.43           290         2722950  \n",
       "\n",
       "[17607 rows x 9 columns]"
      ]
     },
     "metadata": {},
     "output_type": "display_data"
    }
   ],
   "source": [
    "df = df_table\n",
    "display(df)"
   ]
  },
  {
   "cell_type": "markdown",
   "metadata": {},
   "source": [
    "A primeira coisa que é importante fazer, é analisar as primeiras possibilidades de erros nas informações e para isso, vamos fazer algumas análises gerais dos valores da tabela como, número de colunas e linhas, informações gerais, se existem valores nulos e possíveis discrepâncias."
   ]
  },
  {
   "cell_type": "code",
   "execution_count": 627,
   "metadata": {},
   "outputs": [],
   "source": [
    "#display(df.shape)\n",
    "#df.isnull().sum()\n",
    "df.describe()"
   ]
  },
  {
   "cell_type": "markdown",
   "metadata": {},
   "source": [
    "Já sabemos agora, que o número de linhas é de 17607, não há valores nulos e na descrição existe uma informação importante para verificarmos. No 'max' que mostra os valores máximos de cada coluna, temos uma ação que foi negociada a R$98.335,00 enquanto, a média está em torno de R$100,00.\n",
    "Vamos verificar este valor."
   ]
  },
  {
   "cell_type": "code",
   "execution_count": 628,
   "metadata": {},
   "outputs": [
    {
     "data": {
      "text/html": [
       "<div>\n",
       "<style scoped>\n",
       "    .dataframe tbody tr th:only-of-type {\n",
       "        vertical-align: middle;\n",
       "    }\n",
       "\n",
       "    .dataframe tbody tr th {\n",
       "        vertical-align: top;\n",
       "    }\n",
       "\n",
       "    .dataframe thead th {\n",
       "        text-align: right;\n",
       "    }\n",
       "</style>\n",
       "<table border=\"1\" class=\"dataframe\">\n",
       "  <thead>\n",
       "    <tr style=\"text-align: right;\">\n",
       "      <th></th>\n",
       "      <th>data_pregao</th>\n",
       "      <th>cod_acao</th>\n",
       "      <th>nome_emp</th>\n",
       "      <th>preco_abertura</th>\n",
       "      <th>preco_maximo</th>\n",
       "      <th>preco_minimo</th>\n",
       "      <th>preco_fechamento</th>\n",
       "      <th>qtd_negocios</th>\n",
       "      <th>vol_financeiro</th>\n",
       "    </tr>\n",
       "  </thead>\n",
       "  <tbody>\n",
       "    <tr>\n",
       "      <th>19087</th>\n",
       "      <td>2022-07-13</td>\n",
       "      <td>IBOV11</td>\n",
       "      <td>IBOVESPA</td>\n",
       "      <td>98335.00</td>\n",
       "      <td>98335.00</td>\n",
       "      <td>98335.00</td>\n",
       "      <td>98335.00</td>\n",
       "      <td>73620</td>\n",
       "      <td>-2147483648</td>\n",
       "    </tr>\n",
       "    <tr>\n",
       "      <th>34231</th>\n",
       "      <td>2022-07-29</td>\n",
       "      <td>ASML34</td>\n",
       "      <td>ASML HOLD</td>\n",
       "      <td>2972.82</td>\n",
       "      <td>2972.82</td>\n",
       "      <td>2972.82</td>\n",
       "      <td>2972.82</td>\n",
       "      <td>0</td>\n",
       "      <td>594560</td>\n",
       "    </tr>\n",
       "    <tr>\n",
       "      <th>2143</th>\n",
       "      <td>2022-07-22</td>\n",
       "      <td>ASML34</td>\n",
       "      <td>ASML HOLD</td>\n",
       "      <td>2960.85</td>\n",
       "      <td>2960.85</td>\n",
       "      <td>2897.38</td>\n",
       "      <td>2905.30</td>\n",
       "      <td>10</td>\n",
       "      <td>3209860</td>\n",
       "    </tr>\n",
       "    <tr>\n",
       "      <th>22658</th>\n",
       "      <td>2022-07-21</td>\n",
       "      <td>ASML34</td>\n",
       "      <td>ASML HOLD</td>\n",
       "      <td>2892.00</td>\n",
       "      <td>2972.68</td>\n",
       "      <td>2892.00</td>\n",
       "      <td>2972.68</td>\n",
       "      <td>80</td>\n",
       "      <td>24949300</td>\n",
       "    </tr>\n",
       "    <tr>\n",
       "      <th>24735</th>\n",
       "      <td>2022-07-26</td>\n",
       "      <td>ASML34</td>\n",
       "      <td>ASML HOLD</td>\n",
       "      <td>2877.01</td>\n",
       "      <td>2877.01</td>\n",
       "      <td>2792.80</td>\n",
       "      <td>2812.16</td>\n",
       "      <td>260</td>\n",
       "      <td>72664850</td>\n",
       "    </tr>\n",
       "    <tr>\n",
       "      <th>...</th>\n",
       "      <td>...</td>\n",
       "      <td>...</td>\n",
       "      <td>...</td>\n",
       "      <td>...</td>\n",
       "      <td>...</td>\n",
       "      <td>...</td>\n",
       "      <td>...</td>\n",
       "      <td>...</td>\n",
       "      <td>...</td>\n",
       "    </tr>\n",
       "    <tr>\n",
       "      <th>745</th>\n",
       "      <td>2022-07-01</td>\n",
       "      <td>BLUT4</td>\n",
       "      <td>B TECH EQI</td>\n",
       "      <td>0.49</td>\n",
       "      <td>0.51</td>\n",
       "      <td>0.48</td>\n",
       "      <td>0.51</td>\n",
       "      <td>464700</td>\n",
       "      <td>23500700</td>\n",
       "    </tr>\n",
       "    <tr>\n",
       "      <th>30979</th>\n",
       "      <td>2022-07-27</td>\n",
       "      <td>BLUT4</td>\n",
       "      <td>B TECH EQI</td>\n",
       "      <td>0.49</td>\n",
       "      <td>0.50</td>\n",
       "      <td>0.49</td>\n",
       "      <td>0.49</td>\n",
       "      <td>81800</td>\n",
       "      <td>4015100</td>\n",
       "    </tr>\n",
       "    <tr>\n",
       "      <th>11021</th>\n",
       "      <td>2022-07-12</td>\n",
       "      <td>BLUT4</td>\n",
       "      <td>B TECH EQI</td>\n",
       "      <td>0.49</td>\n",
       "      <td>0.52</td>\n",
       "      <td>0.48</td>\n",
       "      <td>0.51</td>\n",
       "      <td>679800</td>\n",
       "      <td>34370700</td>\n",
       "    </tr>\n",
       "    <tr>\n",
       "      <th>15164</th>\n",
       "      <td>2022-07-25</td>\n",
       "      <td>BLUT4</td>\n",
       "      <td>B TECH EQI</td>\n",
       "      <td>0.49</td>\n",
       "      <td>0.51</td>\n",
       "      <td>0.49</td>\n",
       "      <td>0.50</td>\n",
       "      <td>152200</td>\n",
       "      <td>7536200</td>\n",
       "    </tr>\n",
       "    <tr>\n",
       "      <th>34394</th>\n",
       "      <td>2022-07-29</td>\n",
       "      <td>BLUT4</td>\n",
       "      <td>B TECH EQI</td>\n",
       "      <td>0.48</td>\n",
       "      <td>0.50</td>\n",
       "      <td>0.47</td>\n",
       "      <td>0.48</td>\n",
       "      <td>242200</td>\n",
       "      <td>11596000</td>\n",
       "    </tr>\n",
       "  </tbody>\n",
       "</table>\n",
       "<p>17607 rows × 9 columns</p>\n",
       "</div>"
      ],
      "text/plain": [
       "      data_pregao cod_acao    nome_emp  preco_abertura  preco_maximo  \\\n",
       "19087  2022-07-13   IBOV11    IBOVESPA        98335.00      98335.00   \n",
       "34231  2022-07-29   ASML34   ASML HOLD         2972.82       2972.82   \n",
       "2143   2022-07-22   ASML34   ASML HOLD         2960.85       2960.85   \n",
       "22658  2022-07-21   ASML34   ASML HOLD         2892.00       2972.68   \n",
       "24735  2022-07-26   ASML34   ASML HOLD         2877.01       2877.01   \n",
       "...           ...      ...         ...             ...           ...   \n",
       "745    2022-07-01    BLUT4  B TECH EQI            0.49          0.51   \n",
       "30979  2022-07-27    BLUT4  B TECH EQI            0.49          0.50   \n",
       "11021  2022-07-12    BLUT4  B TECH EQI            0.49          0.52   \n",
       "15164  2022-07-25    BLUT4  B TECH EQI            0.49          0.51   \n",
       "34394  2022-07-29    BLUT4  B TECH EQI            0.48          0.50   \n",
       "\n",
       "       preco_minimo  preco_fechamento  qtd_negocios  vol_financeiro  \n",
       "19087      98335.00          98335.00         73620     -2147483648  \n",
       "34231       2972.82           2972.82             0          594560  \n",
       "2143        2897.38           2905.30            10         3209860  \n",
       "22658       2892.00           2972.68            80        24949300  \n",
       "24735       2792.80           2812.16           260        72664850  \n",
       "...             ...               ...           ...             ...  \n",
       "745            0.48              0.51        464700        23500700  \n",
       "30979          0.49              0.49         81800         4015100  \n",
       "11021          0.48              0.51        679800        34370700  \n",
       "15164          0.49              0.50        152200         7536200  \n",
       "34394          0.47              0.48        242200        11596000  \n",
       "\n",
       "[17607 rows x 9 columns]"
      ]
     },
     "execution_count": 628,
     "metadata": {},
     "output_type": "execute_result"
    }
   ],
   "source": [
    "df.sort_values(by =['preco_abertura'], ascending=False)"
   ]
  },
  {
   "cell_type": "markdown",
   "metadata": {},
   "source": [
    "Como imaginado, o valor discrepante é referente ao IBOV, que é um dado importante porém, não é o foco do nosso estudo. Por isso, vamos excluir a linha que consta o IBOV11 também, podemos ver que existem ações que não tiveram negocios no mercado à vista então, vamos excluir aas linhas com valores de 'qtd_negocios' zerados."
   ]
  },
  {
   "cell_type": "code",
   "execution_count": 629,
   "metadata": {},
   "outputs": [],
   "source": [
    "df.drop([19087],inplace=True)\n",
    "no_exchange_df = df[df['qtd_negocios'] == 0]\n",
    "df = df.drop(no_exchange_df.index)\n",
    "df.describe()"
   ]
  },
  {
   "cell_type": "markdown",
   "metadata": {},
   "source": [
    "Temos então, uma tabela em que todas as ações tiveram alguma operação no período.\n",
    "A partir daqui, é importante termos uma boa ideia do que queremos analisar para melhorar ainda mais os dados portanto, vou adicionar duas colunas com o valor percentual de variação das ações, uma para os valores de abertura e fechamento e outro, para os valores máximo e mínimo."
   ]
  },
  {
   "cell_type": "code",
   "execution_count": 630,
   "metadata": {},
   "outputs": [],
   "source": [
    "df['perc_fechamento'] = ((df['preco_fechamento'] / df['preco_abertura'])-1)*100\n",
    "df['perc_max'] = ((df['preco_minimo'] / df['preco_maximo'])-1)*(-100)\n",
    "display(df)"
   ]
  },
  {
   "cell_type": "markdown",
   "metadata": {},
   "source": [
    "Uma vez que temos esses novos dados, podemos fazer uma análise que eu julgo interessante. Quantas ações e dias a variação diária de ações que tiveram negócios foi zero ou seja, quando fecharam no mesmo valor de abertura.\n",
    "Vamos salvar este filtro e retirar as ações que tiveram este comportamento para continuar nossos estudos."
   ]
  },
  {
   "cell_type": "code",
   "execution_count": 631,
   "metadata": {},
   "outputs": [],
   "source": [
    "zero_a_zero_df = df[df['perc_fechamento']==0]\n",
    "#zero_a_zero_df.to_csv('zeroazero.csv')\n",
    "df = df.drop(zero_a_zero_df.index)"
   ]
  },
  {
   "cell_type": "markdown",
   "metadata": {},
   "source": [
    "Finalmente, vamos fazer a extração das 10 ações que tiveram maior e menor percentual de variação diária neste período."
   ]
  },
  {
   "cell_type": "code",
   "execution_count": 632,
   "metadata": {},
   "outputs": [],
   "source": [
    "major_perc_df = df.nlargest(n=20, columns='perc_fechamento', keep='all')\n",
    "minor_perc_df = df.nsmallest(n=20, columns='perc_fechamento', keep='all')\n",
    "major_perc_df.to_csv('maiores_perc_var_072022.csv')\n",
    "minor_perc_df.to_csv('menores_perc_var_072022.csv')\n"
   ]
  },
  {
   "cell_type": "markdown",
   "metadata": {},
   "source": [
    "Obrigado e parabéns por ter chegado até aqui, espero que este artigo tenha trazido informações úteis para o seu aprendizado. Mas, o trabalho ainda não acabou. \n",
    "Vamos agora, contruir um Dashboard no Power BI para mostrar nossas análises de forma clara e impactante.\n",
    "Logo logo, farei um artigo onde irei mostrar como transformar os passos feitos hoje em funções, para serem aplicados nos mais diversos DataSets."
   ]
  }
 ],
 "metadata": {
  "kernelspec": {
   "display_name": "Python 3.10.5 64-bit",
   "language": "python",
   "name": "python3"
  },
  "language_info": {
   "codemirror_mode": {
    "name": "ipython",
    "version": 3
   },
   "file_extension": ".py",
   "mimetype": "text/x-python",
   "name": "python",
   "nbconvert_exporter": "python",
   "pygments_lexer": "ipython3",
   "version": "3.10.5"
  },
  "orig_nbformat": 4,
  "vscode": {
   "interpreter": {
    "hash": "2d0abe5f30a15a1a2dcd598f175e84b4219c221b6dc35ac637f623bca44c8a0c"
   }
  }
 },
 "nbformat": 4,
 "nbformat_minor": 2
}
