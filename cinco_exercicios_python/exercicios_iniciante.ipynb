{
 "cells": [
  {
   "cell_type": "markdown",
   "metadata": {},
   "source": [
    "<h1><center>Cinco exercícios de nível iniciante em Python</h1><br>\n",
    "<p>Vamos resolver agora, alguns exercícios básicos de Python, o objetivo é trabalhar o raciocínio lógico e aplicar alguns operadores na prática. Vamos exercitar as seguintes funções:<br><br>\n",
    "-def (para declaração de uma nova função);<br>\n",
    "-input (entrada de valores feitos por um usuário);<br>\n",
    "-if (estrutura condicional);<br>\n",
    "-elif (forma em python de usar um if, dentro de outro if);<br>\n",
    "-operadores matemáticos (+,-,*,/,%);<br>\n",
    "-for (laço de repetição);<br>"
   ]
  },
  {
   "cell_type": "markdown",
   "metadata": {},
   "source": [
    "1. Faça um programa que solicite ao usuário o valor de um produto e calcule um desconto de 10% sobre o valor do produto."
   ]
  },
  {
   "cell_type": "code",
   "execution_count": null,
   "metadata": {},
   "outputs": [],
   "source": [
    "valor = float(input('Digite o valor que desja subtrair 10%.'))\n",
    "\n",
    "def conta_10(numero):\n",
    "    numero = numero - (numero*(10/100))\n",
    "    return numero\n",
    "\n",
    "print(f'O valor com desconto é: {conta_10(valor)}')"
   ]
  },
  {
   "cell_type": "markdown",
   "metadata": {},
   "source": [
    "2. Faça um programa que verifique se o usuário digitou as informações corretamente, dentro das seguintes regras:<br>\n",
    "a. Idade: entre 18 e 120;<br>\n",
    "b. Quantidade de plano: maior que 0;<br>\n",
    "c. Plano escolhido: P(Platinum), G(Gold), E(Econômica);<br>\n",
    "\n",
    "O programa deve imprimir uma mensagem de erro para cada informação inválida.\n"
   ]
  },
  {
   "cell_type": "code",
   "execution_count": null,
   "metadata": {},
   "outputs": [],
   "source": [
    "idade = int(input('Digite a sua idade.'))\n",
    "vagas = float(input('Quantas vagas deseja reservar?'))\n",
    "plano = str(input('Qual o plano escolhido?')).upper()\n",
    "x = 0\n",
    "if(idade <= 120): \n",
    "    if(idade >= 18 ):\n",
    "        idade = idade\n",
    "        x = x + 1\n",
    "    else:\n",
    "        print('Apenas maiores de 18 anos podem se cadastrar em nosso sistema.')\n",
    "else:\n",
    "    print('A idade não pode ser superior a 120 anos, 11 meses e 29 dias.')\n",
    "if(vagas > 0):\n",
    "    vagas = vagas\n",
    "    x = x + 1\n",
    "else:\n",
    "    print('Você precisa escolher ao menos uma vaga para realizar o cadastro.')\n",
    "if(plano == 'P'):\n",
    "    plano = 'Platinum'\n",
    "    x = x + 1\n",
    "elif(plano == 'G'):\n",
    "    plano = 'Gold'\n",
    "    x = x + 1\n",
    "elif(plano == 'E'):\n",
    "    plano == 'Econômico'\n",
    "    x = x + 1\n",
    "else:\n",
    "    print('O plano deve ser P,G ou E, conforme nossa tabela.')\n",
    "if(x == 3):\n",
    "    print(f'Parabéns! Seu cadastro foi efetuado. Considere suas vagas reservadas no plano {plano}.')\n",
    "else:\n",
    "    print(';)')     "
   ]
  },
  {
   "cell_type": "markdown",
   "metadata": {},
   "source": [
    "3. Faça um programa que verifique se o usuário possui as característcias desejadas para a uma vaga de emprego disponível. Para isso, vamos fazer cinco perguntas e de acordo com as repostas, passar ou não o candidato para a próxima fase.\n",
    "\n",
    "    1. Possui graduação conluída ou em curso?\n",
    "    2. Seu inglês é fluente?\n",
    "    3. Possui experiência comprovada em análise de dados?\n",
    "    4. Ja fez algum curso de Python?\n",
    "    5. Você gosta de estudar e aprender?\n",
    "\n",
    "Cada resposta sim será um ponto para o candidato. Com 5 pontos o candidato é aprovado para a próxima fase, com 4 ou 3 pontos o candidato vai para a entrevita Online, 2 pontos curriculo permanece na base de dados. Com 1 ou 0 pontos, informamos que é necessário preencher ao menos dois critérios para avaliação."
   ]
  },
  {
   "cell_type": "code",
   "execution_count": null,
   "metadata": {},
   "outputs": [],
   "source": [
    "y = 0\n",
    "\n",
    "print('Digite 1 para sim e qualquer outra tecla para não.')\n",
    "\n",
    "x = input('Possui graduação conluída ou em curso?')\n",
    "if(x == '1'):\n",
    "    y = y + 1\n",
    "x = input('Seu inglês é fluente?')   \n",
    "if(x == '1'):\n",
    "    y = y + 1\n",
    "x = input('Possui experiência comprovada em análise de dados?')\n",
    "if(x == '1'):\n",
    "    y = y + 1\n",
    "x = input('Ja fez algum curso de Python?')\n",
    "if(x == '1'):\n",
    "    y = y + 1\n",
    "x = input('Você gosta de estudar e aprender?')\n",
    "if(x == '1'):\n",
    "    y = y + 1\n",
    "\n",
    "if(y == 5):\n",
    "    print('Você está aprovado para a próxima etapa!')\n",
    "elif(y >= 3):\n",
    "    print('Você receberá um e-mail para agendar uma entrevista OnLine.')\n",
    "elif(y == 2):\n",
    "    print('Manteremos seu currículo para outras vagas.')\n",
    "else:\n",
    "    print('Infelizmente, analisaremos apenas candidatos que atendam ao menos a dois critérios.')"
   ]
  },
  {
   "cell_type": "markdown",
   "metadata": {},
   "source": [
    "4. Vamos fazer um programa que leia um número e imprima a tabuada deste número. Utilize um laço for para isso."
   ]
  },
  {
   "cell_type": "code",
   "execution_count": null,
   "metadata": {},
   "outputs": [],
   "source": [
    "numero = int(input('Digite um número.'))\n",
    "y=1\n",
    "\n",
    "for i in range(10):\n",
    "    x = numero * y\n",
    "    y = y + 1\n",
    "    print(f'{numero} x {y-1} = {x}')"
   ]
  },
  {
   "cell_type": "markdown",
   "metadata": {},
   "source": [
    "5. Neste programa o usuário deve digitar um texto e a resposta deve ser o texto impresso com cada letra em uma linha."
   ]
  },
  {
   "cell_type": "code",
   "execution_count": null,
   "metadata": {},
   "outputs": [],
   "source": [
    "texto = input('Digite um texto ou uma palavra.')\n",
    "for i in texto:    \n",
    "    print(i)"
   ]
  }
 ],
 "metadata": {
  "kernelspec": {
   "display_name": "Python 3.9.12 ('base')",
   "language": "python",
   "name": "python3"
  },
  "language_info": {
   "codemirror_mode": {
    "name": "ipython",
    "version": 3
   },
   "file_extension": ".py",
   "mimetype": "text/x-python",
   "name": "python",
   "nbconvert_exporter": "python",
   "pygments_lexer": "ipython3",
   "version": "3.9.12"
  },
  "orig_nbformat": 4,
  "vscode": {
   "interpreter": {
    "hash": "321c287d430dfa74150ad4534669cee99e55d7b4b9f525e749a4a739721854ad"
   }
  }
 },
 "nbformat": 4,
 "nbformat_minor": 2
}
