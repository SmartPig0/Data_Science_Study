{
 "cells": [
  {
   "cell_type": "markdown",
   "metadata": {},
   "source": [
    "<h1><center>Matriz transposta"
   ]
  },
  {
   "cell_type": "code",
   "execution_count": 66,
   "metadata": {},
   "outputs": [],
   "source": [
    "import pandas as pd"
   ]
  },
  {
   "cell_type": "code",
   "execution_count": 67,
   "metadata": {},
   "outputs": [
    {
     "name": "stdout",
     "output_type": "stream",
     "text": [
      "[1, 3, 5, 8]\n",
      "[3, 5, 7, 2]\n",
      "[5, 1, 8, 6]\n",
      "[9, 1, 3, 6]\n",
      "[1, 0, 8, 4]\n",
      "**************\n"
     ]
    }
   ],
   "source": [
    "matrix = [[1,3,5,8],[3,5,7,2],[5,1,8,6],[9,1,3,6],[1,0,8,4]]\n",
    "mt = []\n",
    "\n",
    "nlines = len(matrix)\n",
    "ncols = len(matrix[0])\n",
    "\n",
    "#percorrer a matriz:\n",
    "\n",
    "for i in range(nlines):\n",
    "    mt = matrix[i]\n",
    "    print(mt)\n",
    "\n",
    "print('**************')\n",
    "\n",
    "#fazer a troca das linhas pelas colunas\n"
   ]
  },
  {
   "cell_type": "markdown",
   "metadata": {},
   "source": [
    "Verificação de erro. Vamos criar, ao invés de uma matriz vazia, uma matriz nula com o tamnho exato da matriz transposta."
   ]
  },
  {
   "cell_type": "code",
   "execution_count": 68,
   "metadata": {},
   "outputs": [
    {
     "name": "stdout",
     "output_type": "stream",
     "text": [
      "[[0, 0, 0, 0, 0], [0, 0, 0, 0, 0], [0, 0, 0, 0, 0], [0, 0, 0, 0, 0]]\n"
     ]
    }
   ],
   "source": [
    "mn = []\n",
    "for i in range(ncols):\n",
    "    line = [0]*nlines\n",
    "    mn.append(line)   \n",
    "print(mn)"
   ]
  },
  {
   "cell_type": "markdown",
   "metadata": {},
   "source": [
    "Agora, vai funcionar."
   ]
  },
  {
   "cell_type": "code",
   "execution_count": 71,
   "metadata": {},
   "outputs": [
    {
     "name": "stdout",
     "output_type": "stream",
     "text": [
      "[[1, 3, 5, 9, 1], [3, 5, 1, 1, 0], [5, 7, 8, 3, 8], [8, 2, 6, 6, 4]]\n"
     ]
    }
   ],
   "source": [
    "for i in range(nlines):\n",
    "    for j in range(ncols):\n",
    "        mn[j][i] = matrix[i][j]\n",
    "print(mn)"
   ]
  },
  {
   "cell_type": "code",
   "execution_count": 88,
   "metadata": {},
   "outputs": [
    {
     "name": "stdout",
     "output_type": "stream",
     "text": [
      "[[0, 0, 0], [0, 0, 0]]\n",
      "[[1, 1, 1], [2, 2, 2]]\n",
      "[[1, 2, 3], [3, 1, 5]]\n",
      "[[3, 4], [1, 5], [2, 8]]\n"
     ]
    }
   ],
   "source": [
    "matriz = [[1,2],[1,2],[1,2]]\n",
    "mat = []\n",
    "\n",
    "linhas = len(matriz)\n",
    "colunas = len(matriz[1])\n",
    "\n",
    "for x in range(colunas):\n",
    "    linha = [0]*linhas\n",
    "    mat.append(linha)\n",
    "print(mat)\n",
    "\n",
    "for i in range(linhas):\n",
    "    for j in range(colunas):\n",
    "        mat[j][i] = matriz[i][j]\n",
    "print(mat)\n",
    "\n",
    "# Utilizando ListComprehension para um numero de linhas conhecido\n",
    "\n",
    "A = [[1,3],[2,1],[3,5]]\n",
    "A_t = [[k[0] for k in A] , [k[1] for k in A]]\n",
    "print(A_t)\n",
    "\n",
    "#List comprehension para um numero de linhas conhecido\n",
    "\n",
    "matrix_l = [[3,1,2],[4,5,8]]\n",
    "matrix_t = [[m_t[0] for m_t in matrix_l],[m_t[1] for m_t in matrix_l], [m_t[2] for m_t in matrix_l]]\n",
    "print(matrix_t)\n"
   ]
  },
  {
   "cell_type": "markdown",
   "metadata": {},
   "source": [
    "<h1><center> Utilizando Maps()"
   ]
  },
  {
   "cell_type": "code",
   "execution_count": 95,
   "metadata": {},
   "outputs": [
    {
     "name": "stdout",
     "output_type": "stream",
     "text": [
      "[[1, 4, 1, 6], [2, 6, 1, 5], [9, 6, 4, 4]]\n",
      "[[1, 4, 1, 6], [2, 6, 1, 5], [9, 6, 4, 4]]\n"
     ]
    }
   ],
   "source": [
    "a = [[1,2,9],[4,6,6],[1,1,4],[6,5,4]]\n",
    "transposta = list(map(lambda *i: [j for j in i], *a))\n",
    "print(transposta)\n",
    "\n",
    "transpose = list(map(lambda *a : [i for i in a], *a))\n",
    "print(transpose)"
   ]
  }
 ],
 "metadata": {
  "kernelspec": {
   "display_name": "Python 3.9.12 ('base')",
   "language": "python",
   "name": "python3"
  },
  "language_info": {
   "codemirror_mode": {
    "name": "ipython",
    "version": 3
   },
   "file_extension": ".py",
   "mimetype": "text/x-python",
   "name": "python",
   "nbconvert_exporter": "python",
   "pygments_lexer": "ipython3",
   "version": "3.9.12"
  },
  "orig_nbformat": 4,
  "vscode": {
   "interpreter": {
    "hash": "321c287d430dfa74150ad4534669cee99e55d7b4b9f525e749a4a739721854ad"
   }
  }
 },
 "nbformat": 4,
 "nbformat_minor": 2
}
