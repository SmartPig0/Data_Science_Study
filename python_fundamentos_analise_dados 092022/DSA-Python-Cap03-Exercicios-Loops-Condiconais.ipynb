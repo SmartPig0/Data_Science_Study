{
 "cells": [
  {
   "cell_type": "markdown",
   "metadata": {},
   "source": [
    "# <font color='blue'>Data Science Academy - Python Fundamentos - Capítulo 3</font>\n",
    "\n",
    "## Download: http://github.com/dsacademybr"
   ]
  },
  {
   "cell_type": "code",
   "execution_count": null,
   "metadata": {},
   "outputs": [],
   "source": [
    "# Versão da Linguagem Python\n",
    "from platform import python_version\n",
    "print('Versão da Linguagem Python Usada Neste Jupyter Notebook:', python_version())"
   ]
  },
  {
   "cell_type": "markdown",
   "metadata": {},
   "source": [
    "## Exercícios - Loops e Condiconais"
   ]
  },
  {
   "cell_type": "code",
   "execution_count": 84,
   "metadata": {},
   "outputs": [
    {
     "ename": "ValueError",
     "evalue": "too many values to unpack (expected 3)",
     "output_type": "error",
     "traceback": [
      "\u001b[1;31m---------------------------------------------------------------------------\u001b[0m",
      "\u001b[1;31mValueError\u001b[0m                                Traceback (most recent call last)",
      "\u001b[1;32mc:\\Users\\Felipe\\Documents\\GitHub\\Data_Science_Study\\python_fundamentos_analise_dados 092022\\DSA-Python-Cap03-Exercicios-Loops-Condiconais.ipynb Célula: 4\u001b[0m in \u001b[0;36m<cell line: 6>\u001b[1;34m()\u001b[0m\n\u001b[0;32m      <a href='vscode-notebook-cell:/c%3A/Users/Felipe/Documents/GitHub/Data_Science_Study/python_fundamentos_analise_dados%20092022/DSA-Python-Cap03-Exercicios-Loops-Condiconais.ipynb#W3sZmlsZQ%3D%3D?line=0'>1</a>\u001b[0m \u001b[39m# Exercício 1 - Crie uma estrutura que pergunte ao usuário qual o dia da semana. Se o dia for igual a Domingo ou \u001b[39;00m\n\u001b[0;32m      <a href='vscode-notebook-cell:/c%3A/Users/Felipe/Documents/GitHub/Data_Science_Study/python_fundamentos_analise_dados%20092022/DSA-Python-Cap03-Exercicios-Loops-Condiconais.ipynb#W3sZmlsZQ%3D%3D?line=1'>2</a>\u001b[0m \u001b[39m# igual a sábado, imprima na tela \"Hoje é dia de descanso\", caso contrário imprima na tela \"Você precisa trabalhar!\"\u001b[39;00m\n\u001b[0;32m      <a href='vscode-notebook-cell:/c%3A/Users/Felipe/Documents/GitHub/Data_Science_Study/python_fundamentos_analise_dados%20092022/DSA-Python-Cap03-Exercicios-Loops-Condiconais.ipynb#W3sZmlsZQ%3D%3D?line=3'>4</a>\u001b[0m \u001b[39mfrom\u001b[39;00m \u001b[39mdatetime\u001b[39;00m \u001b[39mimport\u001b[39;00m date\n\u001b[1;32m----> <a href='vscode-notebook-cell:/c%3A/Users/Felipe/Documents/GitHub/Data_Science_Study/python_fundamentos_analise_dados%20092022/DSA-Python-Cap03-Exercicios-Loops-Condiconais.ipynb#W3sZmlsZQ%3D%3D?line=5'>6</a>\u001b[0m x,y,z \u001b[39m=\u001b[39m \u001b[39minput\u001b[39m(\u001b[39m'\u001b[39m\u001b[39mDigite\u001b[39m\u001b[39m'\u001b[39m)\n\u001b[0;32m      <a href='vscode-notebook-cell:/c%3A/Users/Felipe/Documents/GitHub/Data_Science_Study/python_fundamentos_analise_dados%20092022/DSA-Python-Cap03-Exercicios-Loops-Condiconais.ipynb#W3sZmlsZQ%3D%3D?line=7'>8</a>\u001b[0m \u001b[39mprint\u001b[39m(x,y,z)\n\u001b[0;32m     <a href='vscode-notebook-cell:/c%3A/Users/Felipe/Documents/GitHub/Data_Science_Study/python_fundamentos_analise_dados%20092022/DSA-Python-Cap03-Exercicios-Loops-Condiconais.ipynb#W3sZmlsZQ%3D%3D?line=9'>10</a>\u001b[0m DIAS \u001b[39m=\u001b[39m [\n\u001b[0;32m     <a href='vscode-notebook-cell:/c%3A/Users/Felipe/Documents/GitHub/Data_Science_Study/python_fundamentos_analise_dados%20092022/DSA-Python-Cap03-Exercicios-Loops-Condiconais.ipynb#W3sZmlsZQ%3D%3D?line=10'>11</a>\u001b[0m     \u001b[39m'\u001b[39m\u001b[39mSegunda-feira\u001b[39m\u001b[39m'\u001b[39m,\n\u001b[0;32m     <a href='vscode-notebook-cell:/c%3A/Users/Felipe/Documents/GitHub/Data_Science_Study/python_fundamentos_analise_dados%20092022/DSA-Python-Cap03-Exercicios-Loops-Condiconais.ipynb#W3sZmlsZQ%3D%3D?line=11'>12</a>\u001b[0m     \u001b[39m'\u001b[39m\u001b[39mTerça-feira\u001b[39m\u001b[39m'\u001b[39m,\n\u001b[1;32m   (...)\u001b[0m\n\u001b[0;32m     <a href='vscode-notebook-cell:/c%3A/Users/Felipe/Documents/GitHub/Data_Science_Study/python_fundamentos_analise_dados%20092022/DSA-Python-Cap03-Exercicios-Loops-Condiconais.ipynb#W3sZmlsZQ%3D%3D?line=16'>17</a>\u001b[0m     \u001b[39m'\u001b[39m\u001b[39mDomingo\u001b[39m\u001b[39m'\u001b[39m\n\u001b[0;32m     <a href='vscode-notebook-cell:/c%3A/Users/Felipe/Documents/GitHub/Data_Science_Study/python_fundamentos_analise_dados%20092022/DSA-Python-Cap03-Exercicios-Loops-Condiconais.ipynb#W3sZmlsZQ%3D%3D?line=17'>18</a>\u001b[0m ]\n",
      "\u001b[1;31mValueError\u001b[0m: too many values to unpack (expected 3)"
     ]
    }
   ],
   "source": [
    "# Exercício 1 - Crie uma estrutura que pergunte ao usuário qual o dia da semana. Se o dia for igual a Domingo ou \n",
    "# igual a sábado, imprima na tela \"Hoje é dia de descanso\", caso contrário imprima na tela \"Você precisa trabalhar!\"\n",
    "\n",
    "from datetime import date\n",
    "\n",
    "DIAS = [\n",
    "    'Segunda-feira',\n",
    "    'Terça-feira',\n",
    "    'Quarta-feira',\n",
    "    'Quinta-Feira',\n",
    "    'Sexta-feira',\n",
    "    'Sábado',\n",
    "    'Domingo'\n",
    "]\n",
    "\n",
    "data = date(year=2022, month=9, day=20)\n",
    "print(data)\n",
    "\n",
    "indice_da_semana = data.weekday()\n",
    "print(indice_da_semana)\n",
    "\n",
    "dia_da_semana = DIAS[indice_da_semana]\n",
    "print(dia_da_semana)\n",
    "\n",
    "numero_do_dia_da_semana = data.isoweekday()\n",
    "print(numero_do_dia_da_semana)"
   ]
  },
  {
   "cell_type": "code",
   "execution_count": null,
   "metadata": {},
   "outputs": [],
   "source": [
    "# Exercício 2 - Crie uma lista de 5 frutas e verifique se a fruta 'Morango' faz parte da lista\n",
    "\n",
    "fruit = input('Search your favorite fruit.')\n",
    "fruit = fruit.title()\n",
    "\n",
    "strawberry = ['Pineaple', 'Papaya', 'Mango', 'Passion Fruit', 'Strawberry']\n",
    "x = 0\n",
    "for i in strawberry:\n",
    "    if i == fruit:\n",
    "        print(f'Yeah!, we have', i)\n",
    "        x = 1\n",
    "    else:\n",
    "        pass\n",
    "if x == 1:\n",
    "    pass\n",
    "else:\n",
    "    print('Sorry, we do not have', fruit)\n"
   ]
  },
  {
   "cell_type": "code",
   "execution_count": 2,
   "metadata": {},
   "outputs": [
    {
     "name": "stdout",
     "output_type": "stream",
     "text": [
      "[30, 60, 90, 120] <class 'list'>\n"
     ]
    }
   ],
   "source": [
    "# Exercício 3 - Crie uma tupla de 4 elementos, multiplique cada elemento da tupla por 2 e guarde os resultados em uma \n",
    "# lista\n",
    "\n",
    "felements = (1,2,3,4)\n",
    "\n",
    "mult_element = list(elements)\n",
    "x=0\n",
    "for i in mult_element:\n",
    "    mult_element[x] = mult_element[x] * 30\n",
    "    x += 1\n",
    "\n",
    "print(mult_element, type(mult_element))"
   ]
  },
  {
   "cell_type": "code",
   "execution_count": 5,
   "metadata": {},
   "outputs": [
    {
     "name": "stdout",
     "output_type": "stream",
     "text": [
      "100\n",
      "102\n",
      "104\n",
      "106\n",
      "108\n",
      "110\n",
      "100\n",
      "102\n",
      "104\n",
      "106\n",
      "108\n",
      "110\n",
      "112\n",
      "114\n",
      "116\n",
      "118\n",
      "120\n",
      "122\n",
      "124\n",
      "126\n",
      "128\n",
      "130\n",
      "132\n",
      "134\n",
      "136\n",
      "138\n",
      "140\n",
      "142\n",
      "144\n",
      "146\n",
      "148\n"
     ]
    }
   ],
   "source": [
    "# Exercício 4 - Crie uma sequência de números pares entre 100 e 150 e imprima na tela\n",
    "\n",
    "x=100\n",
    "\n",
    "while x <= 150:\n",
    "    if x % 2 == 0:\n",
    "        print(x)\n",
    "    else:\n",
    "        pass\n",
    "    x += 1    \n",
    "\n",
    "#Também pode ser resolvido desta forma\n",
    "\n",
    "for i in range(100,150,2):\n",
    "    print(i)\n"
   ]
  },
  {
   "cell_type": "code",
   "execution_count": null,
   "metadata": {},
   "outputs": [],
   "source": [
    "# Exercício 5 - Crie uma variável chamada temperatura e atribua o valor 40. Enquanto temperatura for maior que 35, \n",
    "# imprima as temperaturas na tela\n",
    "\n",
    "#Loop infinito ?\n",
    "\"\"\"\"\"\n",
    "x = 40\n",
    "\n",
    "while x > 35:\n",
    "    print(x)\n",
    "    \n",
    "\"\"\""
   ]
  },
  {
   "cell_type": "code",
   "execution_count": 66,
   "metadata": {},
   "outputs": [
    {
     "name": "stdout",
     "output_type": "stream",
     "text": [
      "0\n",
      "1\n",
      "2\n",
      "3\n",
      "4\n",
      "5\n",
      "6\n",
      "7\n",
      "8\n",
      "9\n",
      "10\n",
      "11\n",
      "12\n",
      "13\n",
      "14\n",
      "15\n",
      "16\n",
      "17\n",
      "18\n",
      "19\n",
      "20\n",
      "21\n",
      "22\n",
      "23\n",
      "Vou parar aqui! =)\n"
     ]
    }
   ],
   "source": [
    "# Exercício 6 - Crie uma variável chamada contador = 0. Enquanto counter for menor que 100, imprima os valores na tela,\n",
    "# mas quando for encontrado o valor 23, interrompa a execução do programa\n",
    "\n",
    "counter = 0\n",
    "\n",
    "while counter <= 100:\n",
    "    print(counter)\n",
    "    if counter == 23:\n",
    "        print('Vou parar aqui! =)')\n",
    "        break\n",
    "    else:\n",
    "        pass\n",
    "    counter += 1"
   ]
  },
  {
   "cell_type": "code",
   "execution_count": 67,
   "metadata": {},
   "outputs": [
    {
     "name": "stdout",
     "output_type": "stream",
     "text": [
      "[4, 6, 8, 10, 12, 14, 16, 18, 20]\n"
     ]
    }
   ],
   "source": [
    "# Exercício 7 - Crie uma lista vazia e uma variável com valor 4. Enquanto o valor da variável for menor ou igual a 20, \n",
    "# adicione à lista, apenas os valores pares e imprima a lista\n",
    "\n",
    "free = []\n",
    "x = 4\n",
    "\n",
    "while x <= 20:\n",
    "    if x % 2 == 0:\n",
    "        free.append(x)\n",
    "    else:\n",
    "        pass\n",
    "    x += 1\n",
    "\n",
    "print(free)"
   ]
  },
  {
   "cell_type": "code",
   "execution_count": 70,
   "metadata": {},
   "outputs": [
    {
     "name": "stdout",
     "output_type": "stream",
     "text": [
      "[5, 7, 9, 11, 13, 15, 17, 19, 21, 23, 25, 27, 29, 31, 33, 35, 37, 39, 41, 43]\n"
     ]
    }
   ],
   "source": [
    "# Exercício 8 - Transforme o resultado desta função range em uma lista: range(5, 45, 2)\n",
    "nums = range(5, 45, 2)\n",
    "\n",
    "x = []\n",
    "for i in nums:\n",
    "    x.append(i)\n",
    "print(x)\n"
   ]
  },
  {
   "cell_type": "code",
   "execution_count": 72,
   "metadata": {},
   "outputs": [
    {
     "name": "stdout",
     "output_type": "stream",
     "text": [
      "Vista roupas leves.\n"
     ]
    }
   ],
   "source": [
    "# Exercício 9 - Faça a correção dos erros no código abaixo e execute o programa. Dica: são 3 erros.\n",
    "\n",
    "temperatura = float(input('Qual a temperatura? '))\n",
    "\n",
    "if temperatura > 30:\n",
    "    print('Vista roupas leves.')\n",
    "else:\n",
    "    print('Busque seus casacos.')"
   ]
  },
  {
   "cell_type": "code",
   "execution_count": 5,
   "metadata": {},
   "outputs": [
    {
     "name": "stdout",
     "output_type": "stream",
     "text": [
      "A letra 'r' aparece na frase 6 vezes.\n",
      "A letra r aparece 6 vezes na frase\n"
     ]
    }
   ],
   "source": [
    "# Exercício 10 - Faça um programa que conte quantas vezes a letra \"r\" aparece na frase abaixo. Use um placeholder na \n",
    "# sua instrução de impressão\n",
    "\n",
    "# “É melhor, muito melhor, contentar-se com a realidade; se ela não é tão brilhante como os sonhos, tem pelo menos a \n",
    "# vantagem de existir.” (Machado de Assis)\n",
    "\n",
    "frase = \"É melhor, muito melhor, contentar-se com a realidade; se ela não é tão brilhante como os sonhos, tem pelo menos a vantagem de existir.\" \n",
    "\n",
    "x = 0 \n",
    "\n",
    "for i in frase:\n",
    "    if i == 'r':\n",
    "        x += 1\n",
    "    else:\n",
    "        pass\n",
    "print(f'A letra \\'r\\' aparece na frase', x, 'vezes.')\n",
    "print('A letra r aparece %x vezes na frase' %(x)) #isto é um placeholder, utiliza %x e depois declara a variável\n"
   ]
  },
  {
   "cell_type": "markdown",
   "metadata": {},
   "source": [
    "# Fim"
   ]
  },
  {
   "cell_type": "markdown",
   "metadata": {},
   "source": [
    "### Obrigado\n",
    "\n",
    "### Visite o Blog da Data Science Academy - <a href=\"http://blog.dsacademy.com.br\">Blog DSA</a>"
   ]
  }
 ],
 "metadata": {
  "kernelspec": {
   "display_name": "Python 3.9.12 ('base')",
   "language": "python",
   "name": "python3"
  },
  "language_info": {
   "codemirror_mode": {
    "name": "ipython",
    "version": 3
   },
   "file_extension": ".py",
   "mimetype": "text/x-python",
   "name": "python",
   "nbconvert_exporter": "python",
   "pygments_lexer": "ipython3",
   "version": "3.9.12"
  },
  "vscode": {
   "interpreter": {
    "hash": "321c287d430dfa74150ad4534669cee99e55d7b4b9f525e749a4a739721854ad"
   }
  }
 },
 "nbformat": 4,
 "nbformat_minor": 1
}
