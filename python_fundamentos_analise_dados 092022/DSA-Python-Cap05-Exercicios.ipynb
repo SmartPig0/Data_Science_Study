{
 "cells": [
  {
   "cell_type": "markdown",
   "metadata": {},
   "source": [
    "# <font color='blue'>Data Science Academy - Python Fundamentos - Capítulo 5</font>\n",
    "\n",
    "## Download: http://github.com/dsacademybr"
   ]
  },
  {
   "cell_type": "code",
   "execution_count": 1,
   "metadata": {},
   "outputs": [
    {
     "name": "stdout",
     "output_type": "stream",
     "text": [
      "Versão da Linguagem Python Usada Neste Jupyter Notebook: 3.8.8\n"
     ]
    }
   ],
   "source": [
    "# Versão da Linguagem Python\n",
    "from platform import python_version\n",
    "print('Versão da Linguagem Python Usada Neste Jupyter Notebook:', python_version())"
   ]
  },
  {
   "cell_type": "markdown",
   "metadata": {},
   "source": [
    "## Exercícios"
   ]
  },
  {
   "cell_type": "code",
   "execution_count": 9,
   "metadata": {},
   "outputs": [],
   "source": [
    "# Exercício 1 - Crie um objeto a partir da classe abaixo, chamado roc1, passando 2 parâmetros e depois faça uma chamada\n",
    "# aos atributos e métodos\n",
    "\n",
    "from math import sqrt\n",
    "\n",
    "class Rocket():\n",
    "     \n",
    "    def __init__(self, x=0, y=0):\n",
    "        self.x = x\n",
    "        self.y = y\n",
    "        \n",
    "    def move_rocket(self, x_increment=0, y_increment=1):\n",
    "        self.x += x_increment\n",
    "        self.y += y_increment\n",
    "        \n",
    "    def print_rocket(self):\n",
    "        print(self.x, self.y)\n",
    "        "
   ]
  },
  {
   "cell_type": "code",
   "execution_count": 11,
   "metadata": {},
   "outputs": [
    {
     "name": "stdout",
     "output_type": "stream",
     "text": [
      "2 6\n"
     ]
    }
   ],
   "source": [
    "roc1 = Rocket(2,5)\n",
    "roc1.move_rocket()\n",
    "roc1.print_rocket()\n",
    "\n",
    "\n"
   ]
  },
  {
   "cell_type": "code",
   "execution_count": 25,
   "metadata": {},
   "outputs": [
    {
     "name": "stdout",
     "output_type": "stream",
     "text": [
      "Joaquim\n"
     ]
    },
    {
     "data": {
      "text/plain": [
       "True"
      ]
     },
     "execution_count": 25,
     "metadata": {},
     "output_type": "execute_result"
    }
   ],
   "source": [
    "# Exercício 2 - Crie uma classe chamada Pessoa() com os atributos: nome, cidade, telefone e e-mail. Use pelo menos 2\n",
    "# métodos especiais na sua classe. Crie um objeto da sua classe e faça uma chamada a pelo menos um dos seus métodos\n",
    "# especiais.\n",
    "\n",
    "class Pessoa():\n",
    "    def __init__ (self,nome,cidade,telefone,email):\n",
    "        self.nome = nome\n",
    "        self.cidade = cidade\n",
    "        self.telefone = telefone\n",
    "        self.email = email\n",
    "   \n",
    "    def dadosCompletos(self):\n",
    "        print(self.nome)\n",
    "\n",
    "    def verificaNome(self,nome):\n",
    "        if self.nome == nome:\n",
    "            return True\n",
    "        else:\n",
    "            False\n",
    "\n",
    "joaquim = Pessoa('Joaquim','Guará','2918932','joaquim@joaquim')\n",
    "milene = Pessoa('Milene', 'São Paulo', '92891419', 'milene@milene')\n",
    "\n",
    "joaquim.dadosCompletos()\n",
    "\n",
    "milene.verificaNome('Milene')\n",
    "\n",
    "\n",
    "\n"
   ]
  },
  {
   "cell_type": "code",
   "execution_count": 34,
   "metadata": {},
   "outputs": [
    {
     "ename": "TypeError",
     "evalue": "__init__() missing 2 required positional arguments: 'tamanho' and 'interface'",
     "output_type": "error",
     "traceback": [
      "\u001b[1;31m---------------------------------------------------------------------------\u001b[0m",
      "\u001b[1;31mTypeError\u001b[0m                                 Traceback (most recent call last)",
      "\u001b[1;32mc:\\Users\\Felipe\\Documents\\GitHub\\Data_Science_Study\\python_fundamentos_analise_dados 092022\\DSA-Python-Cap05-Exercicios.ipynb Célula: 7\u001b[0m in \u001b[0;36m<cell line: 14>\u001b[1;34m()\u001b[0m\n\u001b[0;32m     <a href='vscode-notebook-cell:/c%3A/Users/Felipe/Documents/GitHub/Data_Science_Study/python_fundamentos_analise_dados%20092022/DSA-Python-Cap05-Exercicios.ipynb#W5sZmlsZQ%3D%3D?line=10'>11</a>\u001b[0m         \u001b[39mself\u001b[39m\u001b[39m.\u001b[39mcapacidade \u001b[39m=\u001b[39m capacidade\n\u001b[0;32m     <a href='vscode-notebook-cell:/c%3A/Users/Felipe/Documents/GitHub/Data_Science_Study/python_fundamentos_analise_dados%20092022/DSA-Python-Cap05-Exercicios.ipynb#W5sZmlsZQ%3D%3D?line=11'>12</a>\u001b[0m         \u001b[39mself\u001b[39m\u001b[39m.\u001b[39msmartphone \u001b[39m=\u001b[39m Smartphone()\n\u001b[1;32m---> <a href='vscode-notebook-cell:/c%3A/Users/Felipe/Documents/GitHub/Data_Science_Study/python_fundamentos_analise_dados%20092022/DSA-Python-Cap05-Exercicios.ipynb#W5sZmlsZQ%3D%3D?line=13'>14</a>\u001b[0m mp3 \u001b[39m=\u001b[39m MP3Player(\u001b[39m10\u001b[39;49m)\n\u001b[0;32m     <a href='vscode-notebook-cell:/c%3A/Users/Felipe/Documents/GitHub/Data_Science_Study/python_fundamentos_analise_dados%20092022/DSA-Python-Cap05-Exercicios.ipynb#W5sZmlsZQ%3D%3D?line=15'>16</a>\u001b[0m mp3\u001b[39m.\u001b[39msmartphone\u001b[39m.\u001b[39mtamanho \u001b[39m=\u001b[39m \u001b[39m10\u001b[39m\n\u001b[0;32m     <a href='vscode-notebook-cell:/c%3A/Users/Felipe/Documents/GitHub/Data_Science_Study/python_fundamentos_analise_dados%20092022/DSA-Python-Cap05-Exercicios.ipynb#W5sZmlsZQ%3D%3D?line=16'>17</a>\u001b[0m mp3\u001b[39m.\u001b[39msmartphone\u001b[39m.\u001b[39mtamanho\n",
      "\u001b[1;32mc:\\Users\\Felipe\\Documents\\GitHub\\Data_Science_Study\\python_fundamentos_analise_dados 092022\\DSA-Python-Cap05-Exercicios.ipynb Célula: 7\u001b[0m in \u001b[0;36mMP3Player.__init__\u001b[1;34m(self, capacidade)\u001b[0m\n\u001b[0;32m     <a href='vscode-notebook-cell:/c%3A/Users/Felipe/Documents/GitHub/Data_Science_Study/python_fundamentos_analise_dados%20092022/DSA-Python-Cap05-Exercicios.ipynb#W5sZmlsZQ%3D%3D?line=9'>10</a>\u001b[0m \u001b[39mdef\u001b[39;00m \u001b[39m__init__\u001b[39m(\u001b[39mself\u001b[39m, capacidade):\n\u001b[0;32m     <a href='vscode-notebook-cell:/c%3A/Users/Felipe/Documents/GitHub/Data_Science_Study/python_fundamentos_analise_dados%20092022/DSA-Python-Cap05-Exercicios.ipynb#W5sZmlsZQ%3D%3D?line=10'>11</a>\u001b[0m     \u001b[39mself\u001b[39m\u001b[39m.\u001b[39mcapacidade \u001b[39m=\u001b[39m capacidade\n\u001b[1;32m---> <a href='vscode-notebook-cell:/c%3A/Users/Felipe/Documents/GitHub/Data_Science_Study/python_fundamentos_analise_dados%20092022/DSA-Python-Cap05-Exercicios.ipynb#W5sZmlsZQ%3D%3D?line=11'>12</a>\u001b[0m     \u001b[39mself\u001b[39m\u001b[39m.\u001b[39msmartphone \u001b[39m=\u001b[39m Smartphone()\n",
      "\u001b[1;31mTypeError\u001b[0m: __init__() missing 2 required positional arguments: 'tamanho' and 'interface'"
     ]
    }
   ],
   "source": [
    "# Exercício 3 - Crie a classe Smartphone com 2 atributos, tamanho e interface e crie a classe MP3Player com os \n",
    "# atributos capacidade. A classe MP3player deve herdar os atributos da classe Smartphone.\n",
    "\n",
    "class Smartphone():\n",
    "    def __init__(self,tamanho,interface):\n",
    "        self.tamanho = tamanho\n",
    "        self.interface = interface\n",
    "\n",
    "class MP3Player():\n",
    "    def __init__(self, capacidade):\n",
    "        self.capacidade = capacidade\n",
    "        #self.smartphone = Smartphone()\n",
    "        \n",
    "\n",
    "mp3 = MP3Player(10)\n",
    "\n",
    "mp3.smartphone.tamanho = 10\n",
    "\n",
    "    \n",
    "\n"
   ]
  },
  {
   "cell_type": "markdown",
   "metadata": {},
   "source": [
    "### FIM"
   ]
  },
  {
   "cell_type": "markdown",
   "metadata": {},
   "source": [
    "### Obrigado\n",
    "\n",
    "### Visite o Blog da Data Science Academy - <a href=\"http://blog.dsacademy.com.br\">Blog DSA</a>"
   ]
  }
 ],
 "metadata": {
  "kernelspec": {
   "display_name": "Python 3.9.12 ('base')",
   "language": "python",
   "name": "python3"
  },
  "language_info": {
   "codemirror_mode": {
    "name": "ipython",
    "version": 3
   },
   "file_extension": ".py",
   "mimetype": "text/x-python",
   "name": "python",
   "nbconvert_exporter": "python",
   "pygments_lexer": "ipython3",
   "version": "3.9.12"
  },
  "vscode": {
   "interpreter": {
    "hash": "321c287d430dfa74150ad4534669cee99e55d7b4b9f525e749a4a739721854ad"
   }
  }
 },
 "nbformat": 4,
 "nbformat_minor": 1
}
