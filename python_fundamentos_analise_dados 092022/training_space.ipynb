{
 "cells": [
  {
   "cell_type": "markdown",
   "metadata": {},
   "source": [
    "<h2>Classes"
   ]
  },
  {
   "cell_type": "code",
   "execution_count": 75,
   "metadata": {},
   "outputs": [],
   "source": [
    "class Calculadora2():\n",
    "    def __init__(self):\n",
    "        print('Iniciado!')\n",
    "    \n",
    "    def soma(self,x, y):\n",
    "        s = x + y\n",
    "        return(s)\n",
    "\n",
    "    def sub(self,x,y):\n",
    "        s = x - y\n",
    "        return(s)"
   ]
  },
  {
   "cell_type": "code",
   "execution_count": 77,
   "metadata": {},
   "outputs": [
    {
     "name": "stdout",
     "output_type": "stream",
     "text": [
      "Iniciado!\n",
      "20 10 30\n"
     ]
    }
   ],
   "source": [
    "calculos = Calculadora2()\n",
    "s = calculos.soma(10,10)\n",
    "ss = calculos.sub(20,10)\n",
    "t = s + ss\n",
    "print(s,ss,t)"
   ]
  },
  {
   "cell_type": "code",
   "execution_count": null,
   "metadata": {},
   "outputs": [],
   "source": [
    "class Calculadora():\n",
    "\n",
    "    def __init__ (self, numero1,numero2):\n",
    "        self.numero1 = numero1\n",
    "        self.numero2 = numero2\n",
    "        \n",
    "        print('Iniciado!')\n",
    "\n",
    "    def somar(self,numero1,numero2):\n",
    "        x = self.numero1 + self.numero2\n",
    "        y = numero1 + numero2\n",
    "        return(x,y)\n",
    "\n",
    "    \n",
    "    "
   ]
  },
  {
   "cell_type": "code",
   "execution_count": null,
   "metadata": {},
   "outputs": [],
   "source": [
    "um = Calculadora(10,10)\n",
    "um.somar(20,20)"
   ]
  },
  {
   "cell_type": "code",
   "execution_count": null,
   "metadata": {},
   "outputs": [],
   "source": [
    "x = um.numero1 * 4\n",
    "y = um.numero2 - um.numero1\n",
    "\n",
    "w = x * y\n",
    "\n",
    "print(x,y,w)"
   ]
  },
  {
   "cell_type": "code",
   "execution_count": null,
   "metadata": {},
   "outputs": [],
   "source": [
    "class Ricky():\n",
    "\n",
    "    def __init__(self):\n",
    "        \n",
    "        self.pelos = 'Pretos'\n",
    "        self.age = '5'\n",
    "        self.nasc = 11\n",
    "        print('Iniciado!')\n",
    "        print('O Ricky tem ' + self.age + ' pelos!')\n",
    "        print(self.nasc)\n",
    "\n",
    "    def somar(self, x):\n",
    "        w = self.nasc + self.nasc * x\n",
    "        print(w)\n"
   ]
  },
  {
   "cell_type": "code",
   "execution_count": null,
   "metadata": {},
   "outputs": [],
   "source": [
    "cao = Ricky()\n",
    "x = cao.somar(200)\n",
    "cao.pelos"
   ]
  },
  {
   "cell_type": "code",
   "execution_count": null,
   "metadata": {},
   "outputs": [],
   "source": [
    "dic = {\"Matheus\": 20, 'Fabiana': 27,\n",
    "       'Jucelino': 43, \"Estephany\": 12, 'Jorge': 33}\n"
   ]
  },
  {
   "cell_type": "code",
   "execution_count": null,
   "metadata": {},
   "outputs": [],
   "source": [
    "dic\n"
   ]
  },
  {
   "cell_type": "code",
   "execution_count": null,
   "metadata": {},
   "outputs": [],
   "source": [
    "dic['Matheus']\n"
   ]
  },
  {
   "cell_type": "code",
   "execution_count": null,
   "metadata": {},
   "outputs": [],
   "source": [
    "dic['Matheus'] = 33\n",
    "dic['Matheus']\n"
   ]
  },
  {
   "cell_type": "code",
   "execution_count": null,
   "metadata": {},
   "outputs": [],
   "source": [
    "dic['Roberval'] = 198\n",
    "dic\n"
   ]
  },
  {
   "cell_type": "code",
   "execution_count": null,
   "metadata": {},
   "outputs": [],
   "source": [
    "dic.clear()\n",
    "dic\n"
   ]
  },
  {
   "cell_type": "code",
   "execution_count": null,
   "metadata": {},
   "outputs": [],
   "source": [
    "del dic\n",
    "dic\n"
   ]
  },
  {
   "cell_type": "code",
   "execution_count": null,
   "metadata": {},
   "outputs": [],
   "source": [
    "dic = {\"Matheus\": 20, 'Fabiana': 27,\n",
    "       'Jucelino': 43, \"Estephany\": 12, 'Jorge': 33}\n",
    "len(dic)\n"
   ]
  },
  {
   "cell_type": "code",
   "execution_count": null,
   "metadata": {},
   "outputs": [],
   "source": [
    "dic.keys()\n"
   ]
  },
  {
   "cell_type": "code",
   "execution_count": null,
   "metadata": {},
   "outputs": [],
   "source": [
    "dic.values()\n"
   ]
  },
  {
   "cell_type": "code",
   "execution_count": null,
   "metadata": {},
   "outputs": [],
   "source": [
    "dic.items()\n"
   ]
  },
  {
   "cell_type": "code",
   "execution_count": null,
   "metadata": {},
   "outputs": [],
   "source": [
    "dic2 = {'Maria': 20, \"Maria2\": 30, 'Maria3': 50, 'Maria4': 60}\n",
    "dic.update(dic2)\n",
    "dic\n"
   ]
  },
  {
   "cell_type": "code",
   "execution_count": null,
   "metadata": {},
   "outputs": [],
   "source": [
    "dic3 = {}\n",
    "dic3[10] = 20\n",
    "dic3[\"Morgado\"] = 35\n",
    "dic3[13] = 'Lula'\n",
    "dic3\n"
   ]
  },
  {
   "cell_type": "code",
   "execution_count": null,
   "metadata": {},
   "outputs": [],
   "source": [
    "dic['Lista'] = [1, 2, 3, 4, 5]\n",
    "dic[\"Lista\"][2]\n"
   ]
  },
  {
   "cell_type": "code",
   "execution_count": null,
   "metadata": {},
   "outputs": [],
   "source": [
    "dic[\"Lista\"][0] + dic[\"Lista\"][4]\n"
   ]
  },
  {
   "cell_type": "markdown",
   "metadata": {},
   "source": [
    "#Tuplas - (Listas Imutáveis)"
   ]
  },
  {
   "cell_type": "code",
   "execution_count": null,
   "metadata": {},
   "outputs": [],
   "source": [
    "tp = (\"Maria\", 30, \"Corinthians\", [1, 2, 3, 4], {'Felipe': 20})\n",
    "tp\n"
   ]
  },
  {
   "cell_type": "code",
   "execution_count": null,
   "metadata": {},
   "outputs": [],
   "source": [
    "len(tp)\n"
   ]
  },
  {
   "cell_type": "code",
   "execution_count": null,
   "metadata": {},
   "outputs": [],
   "source": [
    "tp.index('Corinthians')\n"
   ]
  },
  {
   "cell_type": "code",
   "execution_count": null,
   "metadata": {},
   "outputs": [],
   "source": [
    "tp[0]\n"
   ]
  },
  {
   "cell_type": "code",
   "execution_count": null,
   "metadata": {},
   "outputs": [],
   "source": [
    "tp[:-1]\n"
   ]
  },
  {
   "cell_type": "code",
   "execution_count": null,
   "metadata": {},
   "outputs": [],
   "source": [
    "tp[4]['Felipe']\n"
   ]
  },
  {
   "cell_type": "markdown",
   "metadata": {},
   "source": [
    "Uma forma de 'contornar' a imutabilidade de uma tupla é transforma-la em uma lista, fazer a alteração que deseja e depois, retorna-la para uma lista novamente."
   ]
  },
  {
   "cell_type": "code",
   "execution_count": null,
   "metadata": {},
   "outputs": [],
   "source": [
    "tp = list(tp)\n",
    "tp.append({\"Lula\": 13})\n",
    "tp = tuple(tp)\n",
    "print(tp, type(tp))\n"
   ]
  },
  {
   "cell_type": "markdown",
   "metadata": {},
   "source": [
    "<h1>Calculator"
   ]
  },
  {
   "cell_type": "code",
   "execution_count": null,
   "metadata": {},
   "outputs": [],
   "source": [
    "\n",
    "#Recebe os valores e a operação desejada\n",
    "\n",
    "calc = float(input('Digite o primeiro valor.'))\n",
    "calc2 = float(input('Digite o segundo valor.'))\n",
    "oper = str(input('Qual a operação que desja?'))\n",
    "\n",
    "#Funções da calculadora\n",
    "\n",
    "def soma(x,y):\n",
    "    result = x + y\n",
    "    return result\n",
    "\n",
    "def subtrai(x,y):\n",
    "    result = x - y\n",
    "    return result\n",
    "\n",
    "def mult(x,y):\n",
    "    result = x * y\n",
    "    return result\n",
    "\n",
    "def divid(x,y):\n",
    "    result = x / y\n",
    "    return result\n",
    "\n",
    "def raiz(x,y):\n",
    "    result = x**y\n",
    "    return result\n",
    "\n",
    "def perc(x,y):\n",
    "    result = x * (y/100)\n",
    "    return result\n",
    "\n",
    "#Imprime o resultado, conforme o operador escolhido\n",
    "\n",
    "if oper == '+':\n",
    "    print(soma(calc,calc2))\n",
    "\n",
    "if oper == '-':\n",
    "    print(subtrai(calc,calc2))\n",
    "\n",
    "if oper == '*':\n",
    "    print(mult(calc,calc2))\n",
    "\n",
    "if oper == '/':\n",
    "    print(divid(calc,calc2))\n",
    "\n",
    "if oper == '**':\n",
    "    print(raiz(calc,calc2))\n",
    "\n",
    "if oper == '%':\n",
    "    print(perc(calc,calc2))"
   ]
  }
 ],
 "metadata": {
  "kernelspec": {
   "display_name": "Python 3.9.12 ('base')",
   "language": "python",
   "name": "python3"
  },
  "language_info": {
   "codemirror_mode": {
    "name": "ipython",
    "version": 3
   },
   "file_extension": ".py",
   "mimetype": "text/x-python",
   "name": "python",
   "nbconvert_exporter": "python",
   "pygments_lexer": "ipython3",
   "version": "3.9.12"
  },
  "orig_nbformat": 4,
  "vscode": {
   "interpreter": {
    "hash": "321c287d430dfa74150ad4534669cee99e55d7b4b9f525e749a4a739721854ad"
   }
  }
 },
 "nbformat": 4,
 "nbformat_minor": 2
}
