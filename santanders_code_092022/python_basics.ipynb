{
 "cells": [
  {
   "cell_type": "markdown",
   "metadata": {},
   "source": [
    "<h1><center>Aulas Python Basycs Santander's Code<br>\n",
    "Parte I / III\n"
   ]
  },
  {
   "cell_type": "markdown",
   "metadata": {},
   "source": [
    "1. Faça um programa que peça um valor monetário e diminua em 15%. Seu programa deve imprimir a mensagem \"O novo valor é [valor]\"."
   ]
  },
  {
   "cell_type": "code",
   "execution_count": null,
   "metadata": {},
   "outputs": [],
   "source": [
    "valor = float(input('Digite o valor que desja subtrair 15%.'))\n",
    "\n",
    "def conta_15(numero):\n",
    "    numero = numero - (numero*(15/100))\n",
    "    return numero\n",
    "\n",
    "print(f'O novo valor é: {conta_15(valor)}')"
   ]
  },
  {
   "cell_type": "markdown",
   "metadata": {},
   "source": [
    "2. Faça um programa que leia a validade das informações:<br>\n",
    "a. Idade: entre 0 e 150;<br>\n",
    "b. Salário: maior que 0;<br>\n",
    "c. Sexo: M,F ou Outro;<br>\n",
    "\n",
    "O programa deve imprimir uma mensagem de erro para cada informação inválida.\n",
    "\n",
    "\n"
   ]
  },
  {
   "cell_type": "code",
   "execution_count": null,
   "metadata": {},
   "outputs": [],
   "source": [
    "idade = int(input('Digite uma idade.'))\n",
    "salario = float(input('Digite o salário desejado'))\n",
    "sexo = str(input('Digite o sexo.')).upper()\n",
    "x = 0\n",
    "if(idade <= 150): \n",
    "    if(idade > 0):\n",
    "        idade = idade\n",
    "        x = x + 1\n",
    "    else:\n",
    "        print('A idade deve ser maior do que zero.')\n",
    "else:\n",
    "    print('A idade não pode ser superior a 150 anos.')\n",
    "\n",
    "if(salario>0):\n",
    "    salario = salario\n",
    "    x = x + 1\n",
    "else:\n",
    "    print('O salário deve ser maior do que zero')\n",
    "\n",
    "if(sexo == 'M'):\n",
    "    sexo = 'Masculino'\n",
    "    x = x + 1\n",
    "elif(sexo == 'F'):\n",
    "    sexo = 'Feminino'\n",
    "    x = x + 1\n",
    "elif(sexo == 'Outro'):\n",
    "    sexo == 'Outro'\n",
    "    x = x + 1\n",
    "else:\n",
    "    print('O sexo deve ser M, F ou Outro')\n",
    "\n",
    "if(x == 3):\n",
    "    print(f'Olá, você é um jovem de {idade} anos, seu salário atual é de R${salario} e você se considera {sexo}')\n",
    "else:\n",
    "    print(';)')    "
   ]
  },
  {
   "cell_type": "markdown",
   "metadata": {},
   "source": [
    "3. Vamos fazer um programa para verificar quem é o assassino de um crime. Para descobrir o assassino, a polícia faz um pequeno questionário com 5 perguntas onde a resposta só pode ser sim ou não:\n",
    "\n",
    "a. Mora perto da vítima?\n",
    "b. Já trabalhou com a vítima ?\n",
    "c. Telefonou para a vítima?\n",
    "d. esteve no local do crime?\n",
    "e. Devia para a vítima ?\n",
    "\n",
    "Cada resposta sim dá um ponto para o suspeito. A polícia considera que os suspeitos com 5 pontos são os assassinos, com 4 a 3 pontos são cúmplices e 2 pontos são apenas suspeitos, necessitando outras investigações. Valores iguais ou abaixo de 1 são liberados."
   ]
  },
  {
   "cell_type": "code",
   "execution_count": null,
   "metadata": {},
   "outputs": [],
   "source": [
    "y = 0\n",
    "\n",
    "print('Digite 1 para sim e qualquer outra tecla para não.')\n",
    "\n",
    "x = input('Mora perto da vítima ?')\n",
    "if(x == '1'):\n",
    "    y = y + 1\n",
    "x = input('Já trabalhou com a vítima ?')\n",
    "if(x == '1'):\n",
    "    y = y + 1\n",
    "x = input('Telefonou para a vítima?')\n",
    "if(x == '1'):\n",
    "    y = y + 1\n",
    "x = input('Esteve no local do crime?')\n",
    "if(x == '1'):\n",
    "    y = y + 1\n",
    "x = input('Devia para a vítima ?')\n",
    "if(x == '1'):\n",
    "    y = y + 1\n",
    "\n",
    "if(y == 5):\n",
    "    print('Prisão preventiva decretada!')\n",
    "elif(y >= 3):\n",
    "    print('Deve ir à delegacia para prestar esclarecimentos!')\n",
    "elif(y == 2):\n",
    "    print('Anotar documentação e impedir viagens!')\n",
    "else:\n",
    "    print('Pode ir embora!', end = '=====>>>')"
   ]
  },
  {
   "cell_type": "markdown",
   "metadata": {},
   "source": [
    "4. Faça um programa que imprima a tabuada do 9 (de 9 * 1 a 9 * 10) usando loops.\n",
    "\n"
   ]
  },
  {
   "cell_type": "code",
   "execution_count": null,
   "metadata": {},
   "outputs": [],
   "source": [
    "y=1\n",
    "\n",
    "for i in range(10):\n",
    "    x = 9 * y\n",
    "    y = y + 1\n",
    "    print(x)\n"
   ]
  },
  {
   "cell_type": "markdown",
   "metadata": {},
   "source": [
    "<h1><center>Parte II/III"
   ]
  },
  {
   "cell_type": "markdown",
   "metadata": {},
   "source": [
    "1. Faça um programa que olhe todos os itens de uma lista e diga quantos deles são pares."
   ]
  },
  {
   "cell_type": "code",
   "execution_count": null,
   "metadata": {},
   "outputs": [],
   "source": [
    "lista = [1 , 2, 3, 4, 6, 24, 13, 44, 12, 8]\n",
    "x = 0\n",
    "for i in lista:\n",
    "    if (i%2) == 0:   \n",
    "        x = x + 1     \n",
    "print(f'Nessa lista constam {x} números pares.')\n",
    "print(lista,type(lista[3]))\n"
   ]
  },
  {
   "cell_type": "markdown",
   "metadata": {},
   "source": [
    "2. Faça um programa que peça para o usuário digitar uma palavra e imprima cada letra em uma linha."
   ]
  },
  {
   "cell_type": "code",
   "execution_count": null,
   "metadata": {},
   "outputs": [],
   "source": [
    "palavra = input('Digite uma palavra que irei separar as letras.')\n",
    "palavra = palavra[::-1]\n",
    "for i in palavra:\n",
    "    print(i)\n"
   ]
  },
  {
   "cell_type": "markdown",
   "metadata": {},
   "source": [
    "3. Faça uma função que receba duas listas e retorne a soma item a item dessas listas.\n",
    "Exemplo: Se a função receber as listas [1,4,3] e [3,5,1], então a função deve retornar [1+3,4+5,3+1]=[4,9,4]."
   ]
  },
  {
   "cell_type": "code",
   "execution_count": null,
   "metadata": {},
   "outputs": [],
   "source": [
    "def soma_lista(lista1,lista2):\n",
    "    y=0\n",
    "    lista3= []\n",
    "    for i in lista1:\n",
    "        x = lista1[y] + lista2[y]\n",
    "        lista3.append(x)    \n",
    "        y = y + 1\n",
    "    print(lista3)\n",
    "\n",
    "lista1 = [2,34,22,13,78]\n",
    "lista2 = [7,23,15,20,34]\n",
    "soma_lista(lista1,lista2)\n",
    "       "
   ]
  },
  {
   "cell_type": "markdown",
   "metadata": {},
   "source": [
    "4. Crie um dicionário cujas chaves são os meses do ano e os valores são a duração (em dias) de cada mês.\n",
    "5. Imprima o dicionário."
   ]
  },
  {
   "cell_type": "code",
   "execution_count": null,
   "metadata": {},
   "outputs": [],
   "source": [
    "dicionario = {'Janeiro':31,\n",
    "'Fevereiro':29,\n",
    "'Março':30}\n",
    "print(dicionario)"
   ]
  },
  {
   "cell_type": "markdown",
   "metadata": {},
   "source": [
    "<h1><center>Parte III/III"
   ]
  },
  {
   "cell_type": "markdown",
   "metadata": {},
   "source": [
    "Após baixar o arquivo.\n",
    "1. Neste exercício você deve criar um programa que abra o arquivo \n",
    "\"alunos.csv\" e imprima o conteúdo do arquivo linha a linha.\n",
    "Note que esse é o primeiro exercício de uma sequência, então o seu código \n",
    "pode ser reaproveitado nos exercícios seguintes. Dito isso, a recomendação é \n",
    "usar a biblioteca CSV para ler o arquivo mesmo que não seja realmente \n",
    "necessário para esse primeiro item."
   ]
  },
  {
   "cell_type": "code",
   "execution_count": null,
   "metadata": {},
   "outputs": [],
   "source": [
    "import csv"
   ]
  },
  {
   "cell_type": "code",
   "execution_count": null,
   "metadata": {},
   "outputs": [],
   "source": [
    "with open('./alunos.csv', 'r') as alunos:\n",
    "    alunos = csv.reader(alunos)\n",
    "    for i, linha in enumerate(alunos):\n",
    "        if i == 0:\n",
    "            print('Cabeçalho: ' + str(linha))\n",
    "        else:\n",
    "            print('Valor: ' + str(linha))\n",
    "print(i)"
   ]
  },
  {
   "cell_type": "markdown",
   "metadata": {},
   "source": [
    "2. Para o segundo exercício, você deve criar um programa que realize uma \n",
    "cópia do arquivo \"alunos.csv\". Essa cópia deve ser um arquivo chamado \n",
    "\"alunos_copia.csv\".\n",
    "Novamente, aqui você também não precisa utilizar a biblioteca CSV mas se \n",
    "usar, seu código pode ser reutilizado na próxima questão sem muitas \n",
    "modificações."
   ]
  },
  {
   "cell_type": "code",
   "execution_count": null,
   "metadata": {},
   "outputs": [],
   "source": []
  }
 ],
 "metadata": {
  "kernelspec": {
   "display_name": "Python 3.9.12 ('base')",
   "language": "python",
   "name": "python3"
  },
  "language_info": {
   "codemirror_mode": {
    "name": "ipython",
    "version": 3
   },
   "file_extension": ".py",
   "mimetype": "text/x-python",
   "name": "python",
   "nbconvert_exporter": "python",
   "pygments_lexer": "ipython3",
   "version": "3.9.12"
  },
  "orig_nbformat": 4,
  "vscode": {
   "interpreter": {
    "hash": "321c287d430dfa74150ad4534669cee99e55d7b4b9f525e749a4a739721854ad"
   }
  }
 },
 "nbformat": 4,
 "nbformat_minor": 2
}
