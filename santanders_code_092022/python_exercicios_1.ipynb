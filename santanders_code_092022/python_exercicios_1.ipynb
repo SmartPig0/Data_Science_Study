{
 "cells": [
  {
   "cell_type": "markdown",
   "metadata": {},
   "source": [
    "<center><font size = \"40\" color=\"red\">Questão 1</font></center>\n",
    "Faça um programa que peça ao usuário um número e imprima todos os\n",
    "números de um até o número que o usuário informar."
   ]
  },
  {
   "cell_type": "code",
   "execution_count": null,
   "metadata": {},
   "outputs": [],
   "source": [
    "print('Olá! Vamos brincar!')\n",
    "num = int(input('Digite um número.'))\n",
    "i= 0\n",
    "while i < num:\n",
    "    i = i +1\n",
    "    print(i)"
   ]
  },
  {
   "cell_type": "markdown",
   "metadata": {},
   "source": [
    "Questão 2\n",
    "Crie um programa que leia um valor qualquer e apresente uma mensagem dizendo em qual\n",
    "dos seguintes intervalos ([0,25], (25,50], (50,75], (75,100]) este valor se encontra. Caso o valor não\n",
    "esteja em nenhum destes intervalos, deverá ser impressa a mensagem “Fora de intervalo”. Veja\n",
    "alguns exemplo abaixo:\n"
   ]
  },
  {
   "cell_type": "code",
   "execution_count": 21,
   "metadata": {},
   "outputs": [
    {
     "ename": "ValueError",
     "evalue": "invalid literal for int() with base 10: ''",
     "output_type": "error",
     "traceback": [
      "\u001b[1;31m---------------------------------------------------------------------------\u001b[0m",
      "\u001b[1;31mValueError\u001b[0m                                Traceback (most recent call last)",
      "\u001b[1;32mc:\\Users\\Felipe\\Documents\\GitHub\\Data_Science_Study\\santanders_code_092022\\python_exercicios_1.ipynb Célula: 4\u001b[0m in \u001b[0;36m<cell line: 3>\u001b[1;34m()\u001b[0m\n\u001b[0;32m      <a href='vscode-notebook-cell:/c%3A/Users/Felipe/Documents/GitHub/Data_Science_Study/santanders_code_092022/python_exercicios_1.ipynb#X10sZmlsZQ%3D%3D?line=0'>1</a>\u001b[0m interval \u001b[39m=\u001b[39m ([\u001b[39m0\u001b[39m,\u001b[39m25\u001b[39m],[\u001b[39m25\u001b[39m,\u001b[39m50\u001b[39m], [\u001b[39m50\u001b[39m,\u001b[39m75\u001b[39m], [\u001b[39m75\u001b[39m,\u001b[39m100\u001b[39m])\n\u001b[1;32m----> <a href='vscode-notebook-cell:/c%3A/Users/Felipe/Documents/GitHub/Data_Science_Study/santanders_code_092022/python_exercicios_1.ipynb#X10sZmlsZQ%3D%3D?line=2'>3</a>\u001b[0m num \u001b[39m=\u001b[39m \u001b[39mint\u001b[39;49m(\u001b[39minput\u001b[39;49m(\u001b[39m'\u001b[39;49m\u001b[39mDigite um número entre 1 e 100\u001b[39;49m\u001b[39m'\u001b[39;49m))\n\u001b[0;32m      <a href='vscode-notebook-cell:/c%3A/Users/Felipe/Documents/GitHub/Data_Science_Study/santanders_code_092022/python_exercicios_1.ipynb#X10sZmlsZQ%3D%3D?line=4'>5</a>\u001b[0m \u001b[39mif\u001b[39;00m num \u001b[39m<\u001b[39m \u001b[39m25\u001b[39m:\n\u001b[0;32m      <a href='vscode-notebook-cell:/c%3A/Users/Felipe/Documents/GitHub/Data_Science_Study/santanders_code_092022/python_exercicios_1.ipynb#X10sZmlsZQ%3D%3D?line=5'>6</a>\u001b[0m     \u001b[39mprint\u001b[39m(interval[\u001b[39m0\u001b[39m])\n",
      "\u001b[1;31mValueError\u001b[0m: invalid literal for int() with base 10: ''"
     ]
    }
   ],
   "source": [
    "interval = ([0,25],[25,50], [50,75], [75,100])\n",
    "\n",
    "num = int(input('Digite um número entre 1 e 100'))\n",
    "\n",
    "if num < 25:\n",
    "    print(interval[0])\n"
   ]
  },
  {
   "cell_type": "markdown",
   "metadata": {},
   "source": [
    "Questão 3.\n",
    "Crie uma função que recebe o valor do raio de um círculo como parâmetro e retorna o valor da\n",
    "área desse círculo. Lembrando que a área de círculo é dada pela equação: A = ℼ r^2."
   ]
  },
  {
   "cell_type": "code",
   "execution_count": 36,
   "metadata": {},
   "outputs": [
    {
     "ename": "ValueError",
     "evalue": "invalid literal for int() with base 10: ''",
     "output_type": "error",
     "traceback": [
      "\u001b[1;31m---------------------------------------------------------------------------\u001b[0m",
      "\u001b[1;31mValueError\u001b[0m                                Traceback (most recent call last)",
      "\u001b[1;32mc:\\Users\\Felipe\\Documents\\GitHub\\Data_Science_Study\\santanders_code_092022\\python_exercicios_1.ipynb Célula: 6\u001b[0m in \u001b[0;36m<cell line: 4>\u001b[1;34m()\u001b[0m\n\u001b[0;32m      <a href='vscode-notebook-cell:/c%3A/Users/Felipe/Documents/GitHub/Data_Science_Study/santanders_code_092022/python_exercicios_1.ipynb#X14sZmlsZQ%3D%3D?line=0'>1</a>\u001b[0m \u001b[39mimport\u001b[39;00m \u001b[39mmath\u001b[39;00m\n\u001b[1;32m----> <a href='vscode-notebook-cell:/c%3A/Users/Felipe/Documents/GitHub/Data_Science_Study/santanders_code_092022/python_exercicios_1.ipynb#X14sZmlsZQ%3D%3D?line=3'>4</a>\u001b[0m r \u001b[39m=\u001b[39m \u001b[39mint\u001b[39;49m(\u001b[39minput\u001b[39;49m(\u001b[39m'\u001b[39;49m\u001b[39mDigite o raio do círculo\u001b[39;49m\u001b[39m'\u001b[39;49m))\n\u001b[0;32m      <a href='vscode-notebook-cell:/c%3A/Users/Felipe/Documents/GitHub/Data_Science_Study/santanders_code_092022/python_exercicios_1.ipynb#X14sZmlsZQ%3D%3D?line=4'>5</a>\u001b[0m a \u001b[39m=\u001b[39m math\u001b[39m.\u001b[39mpi\u001b[39m*\u001b[39m(r\u001b[39m*\u001b[39m\u001b[39m*\u001b[39m\u001b[39m2\u001b[39m)\n\u001b[0;32m      <a href='vscode-notebook-cell:/c%3A/Users/Felipe/Documents/GitHub/Data_Science_Study/santanders_code_092022/python_exercicios_1.ipynb#X14sZmlsZQ%3D%3D?line=5'>6</a>\u001b[0m \u001b[39mprint\u001b[39m(a)\n",
      "\u001b[1;31mValueError\u001b[0m: invalid literal for int() with base 10: ''"
     ]
    }
   ],
   "source": [
    "import math\n",
    "\n",
    "\n",
    "r = int(input('Digite o raio do círculo'))\n",
    "a = math.pi*(r**2)\n",
    "print(a)\n",
    "\n"
   ]
  },
  {
   "cell_type": "markdown",
   "metadata": {},
   "source": [
    "Questão 4.\n",
    "Faça um programa que peça 2 números inteiros e um número real,\n",
    "calcule e mostre:\n",
    "a) o produto entre o dobro do primeiro e a metade do segundo.\n",
    "b) a soma entre o triplo do primeiro e o terceiro.\n",
    "c) o terceiro elevado ao cubo."
   ]
  },
  {
   "cell_type": "code",
   "execution_count": 41,
   "metadata": {},
   "outputs": [
    {
     "name": "stdout",
     "output_type": "stream",
     "text": [
      "6.0 11.5 15.625=D"
     ]
    }
   ],
   "source": [
    "x = 2\n",
    "y = 3\n",
    "w = 2.5\n",
    "\n",
    "a = (x*2) * (y/2)\n",
    "b = (y+y+y) + w\n",
    "c = w**3\n",
    "\n",
    "print(a, b, c, end = '=D')\n",
    "\n"
   ]
  },
  {
   "cell_type": "markdown",
   "metadata": {},
   "source": [
    "Questão 6.\n",
    "Faça uma função que recebe uma lista de números e retorna a soma dos elementos dessa lista.\n"
   ]
  },
  {
   "cell_type": "code",
   "execution_count": 75,
   "metadata": {},
   "outputs": [
    {
     "name": "stdout",
     "output_type": "stream",
     "text": [
      "150\n"
     ]
    }
   ],
   "source": [
    "x = [10, 20, 80, 40]\n",
    "y = 0\n",
    "\n",
    "for i in x:\n",
    "    y = y + i\n",
    "print(y)\n"
   ]
  }
 ],
 "metadata": {
  "kernelspec": {
   "display_name": "Python 3.9.12 ('base')",
   "language": "python",
   "name": "python3"
  },
  "language_info": {
   "codemirror_mode": {
    "name": "ipython",
    "version": 3
   },
   "file_extension": ".py",
   "mimetype": "text/x-python",
   "name": "python",
   "nbconvert_exporter": "python",
   "pygments_lexer": "ipython3",
   "version": "3.9.12"
  },
  "orig_nbformat": 4,
  "vscode": {
   "interpreter": {
    "hash": "321c287d430dfa74150ad4534669cee99e55d7b4b9f525e749a4a739721854ad"
   }
  }
 },
 "nbformat": 4,
 "nbformat_minor": 2
}
