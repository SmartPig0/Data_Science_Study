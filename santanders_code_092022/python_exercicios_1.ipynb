{
 "cells": [
  {
   "cell_type": "markdown",
   "metadata": {},
   "source": [
    "<center><font size = \"40\" color=\"red\">Questão 1</font></center>\n",
    "Faça um programa que peça ao usuário um número e imprima todos os\n",
    "números de um até o número que o usuário informar."
   ]
  },
  {
   "cell_type": "code",
   "execution_count": null,
   "metadata": {},
   "outputs": [],
   "source": [
    "print('Olá! Vamos brincar!')\n",
    "num = int(input('Digite um número.'))\n",
    "i= 0\n",
    "while i < num:\n",
    "    i = i +1\n",
    "    print(i)"
   ]
  },
  {
   "cell_type": "markdown",
   "metadata": {},
   "source": [
    "Questão 2\n",
    "Crie um programa que leia um valor qualquer e apresente uma mensagem dizendo em qual\n",
    "dos seguintes intervalos ([0,25], (25,50], (50,75], (75,100]) este valor se encontra. Caso o valor não\n",
    "esteja em nenhum destes intervalos, deverá ser impressa a mensagem “Fora de intervalo”. Veja\n",
    "alguns exemplo abaixo:\n"
   ]
  },
  {
   "cell_type": "code",
   "execution_count": null,
   "metadata": {},
   "outputs": [],
   "source": [
    "interval = ([0,25],[25,50], [50,75], [75,100])\n",
    "\n",
    "num = int(input('Digite um número entre 1 e 100'))\n",
    "\n",
    "if num < 25:\n",
    "    print(interval[0])\n"
   ]
  },
  {
   "cell_type": "markdown",
   "metadata": {},
   "source": [
    "Questão 3.\n",
    "Crie uma função que recebe o valor do raio de um círculo como parâmetro e retorna o valor da\n",
    "área desse círculo. Lembrando que a área de círculo é dada pela equação: A = ℼ r^2."
   ]
  },
  {
   "cell_type": "code",
   "execution_count": null,
   "metadata": {},
   "outputs": [],
   "source": [
    "import math\n",
    "\n",
    "\n",
    "r = int(input('Digite o raio do círculo'))\n",
    "a = math.pi*(r**2)\n",
    "print(a)\n",
    "\n"
   ]
  },
  {
   "cell_type": "markdown",
   "metadata": {},
   "source": [
    "Questão 4.\n",
    "Faça um programa que peça 2 números inteiros e um número real,\n",
    "calcule e mostre:\n",
    "a) o produto entre o dobro do primeiro e a metade do segundo.\n",
    "b) a soma entre o triplo do primeiro e o terceiro.\n",
    "c) o terceiro elevado ao cubo."
   ]
  },
  {
   "cell_type": "code",
   "execution_count": null,
   "metadata": {},
   "outputs": [],
   "source": [
    "x = 2\n",
    "y = 3\n",
    "w = 2.5\n",
    "\n",
    "a = (x*2) * (y/2)\n",
    "b = (y+y+y) + w\n",
    "c = w**3\n",
    "\n",
    "print(a, b, c, end = '=D')\n",
    "\n"
   ]
  },
  {
   "cell_type": "markdown",
   "metadata": {},
   "source": [
    "Questão 6.\n",
    "Faça uma função que recebe uma lista de números e retorna a soma dos elementos dessa lista.\n"
   ]
  },
  {
   "cell_type": "code",
   "execution_count": 76,
   "metadata": {},
   "outputs": [
    {
     "name": "stdout",
     "output_type": "stream",
     "text": [
      "150\n"
     ]
    }
   ],
   "source": [
    "x = [10, 20, 80, 40]\n",
    "y = 0\n",
    "for i in x:\n",
    "    y += i\n",
    "print(y)\n"
   ]
  },
  {
   "cell_type": "markdown",
   "metadata": {},
   "source": []
  }
 ],
 "metadata": {
  "kernelspec": {
   "display_name": "Python 3.9.12 ('base')",
   "language": "python",
   "name": "python3"
  },
  "language_info": {
   "codemirror_mode": {
    "name": "ipython",
    "version": 3
   },
   "file_extension": ".py",
   "mimetype": "text/x-python",
   "name": "python",
   "nbconvert_exporter": "python",
   "pygments_lexer": "ipython3",
   "version": "3.9.12"
  },
  "orig_nbformat": 4,
  "vscode": {
   "interpreter": {
    "hash": "321c287d430dfa74150ad4534669cee99e55d7b4b9f525e749a4a739721854ad"
   }
  }
 },
 "nbformat": 4,
 "nbformat_minor": 2
}
