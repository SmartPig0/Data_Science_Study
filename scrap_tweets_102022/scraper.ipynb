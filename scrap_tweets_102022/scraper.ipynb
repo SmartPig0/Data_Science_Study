{
 "cells": [
  {
   "cell_type": "markdown",
   "metadata": {},
   "source": [
    "<center><h1 style = \"color:#BD2D87\">Coleta de dados do Twitter"
   ]
  },
  {
   "cell_type": "code",
   "execution_count": 85,
   "metadata": {},
   "outputs": [],
   "source": [
    "#!pip install snscrape"
   ]
  },
  {
   "cell_type": "markdown",
   "metadata": {},
   "source": [
    "<h4 style = \"color:#BD2D87\">Biblioteca snscrape: https://github.com/JustAnotherArchivist/snscrape"
   ]
  },
  {
   "cell_type": "code",
   "execution_count": 86,
   "metadata": {},
   "outputs": [],
   "source": [
    "import pandas as pd\n",
    "import snscrape.modules.twitter as sntwitter"
   ]
  },
  {
   "cell_type": "markdown",
   "metadata": {},
   "source": [
    "<p style = \"color:#BD2D87\">Procura de dados no Twitter"
   ]
  },
  {
   "cell_type": "code",
   "execution_count": 87,
   "metadata": {},
   "outputs": [],
   "source": [
    "search = sntwitter.TwitterSearchScraper('Ciência de Dados since:2022-10-01 until:2022-10-12').get_items()  "
   ]
  },
  {
   "cell_type": "markdown",
   "metadata": {},
   "source": [
    "<p style = \"color:#BD2D87\">Laço for iterando a lista de dados e e inserindo em uma lista. Condicional de seleção de quantidade de itens."
   ]
  },
  {
   "cell_type": "code",
   "execution_count": 88,
   "metadata": {},
   "outputs": [],
   "source": [
    "max_twit = 1000\n",
    "x = 0\n",
    "list_search = []\n",
    "for i in search:\n",
    "    if x > max_twit:\n",
    "        break\n",
    "    list_search.append([i.date, i.hashtags, i.content, i.user, i.url])\n",
    "    x += 1\n",
    "\n",
    "#list_search"
   ]
  },
  {
   "cell_type": "markdown",
   "metadata": {},
   "source": [
    "<p style = \"color:#BD2D87\">Criação de um dataframe com a biblioteca Pandas."
   ]
  },
  {
   "cell_type": "code",
   "execution_count": 89,
   "metadata": {},
   "outputs": [
    {
     "data": {
      "text/html": [
       "<div>\n",
       "<style scoped>\n",
       "    .dataframe tbody tr th:only-of-type {\n",
       "        vertical-align: middle;\n",
       "    }\n",
       "\n",
       "    .dataframe tbody tr th {\n",
       "        vertical-align: top;\n",
       "    }\n",
       "\n",
       "    .dataframe thead th {\n",
       "        text-align: right;\n",
       "    }\n",
       "</style>\n",
       "<table border=\"1\" class=\"dataframe\">\n",
       "  <thead>\n",
       "    <tr style=\"text-align: right;\">\n",
       "      <th></th>\n",
       "      <th>date</th>\n",
       "      <th>hashtags</th>\n",
       "      <th>content</th>\n",
       "      <th>user</th>\n",
       "      <th>url</th>\n",
       "    </tr>\n",
       "  </thead>\n",
       "  <tbody>\n",
       "    <tr>\n",
       "      <th>0</th>\n",
       "      <td>2022-10-11 21:50:26+00:00</td>\n",
       "      <td>None</td>\n",
       "      <td>@marcoslatino @Haddad_Fernando @avantiparmeira...</td>\n",
       "      <td>https://twitter.com/MARCIOSUGA</td>\n",
       "      <td>https://twitter.com/MARCIOSUGA/status/15799525...</td>\n",
       "    </tr>\n",
       "    <tr>\n",
       "      <th>1</th>\n",
       "      <td>2022-10-11 21:43:12+00:00</td>\n",
       "      <td>None</td>\n",
       "      <td>Cheque conheci aqui mesmo no Twitter, depois d...</td>\n",
       "      <td>https://twitter.com/Israel_matusse</td>\n",
       "      <td>https://twitter.com/Israel_matusse/status/1579...</td>\n",
       "    </tr>\n",
       "    <tr>\n",
       "      <th>2</th>\n",
       "      <td>2022-10-11 21:20:07+00:00</td>\n",
       "      <td>None</td>\n",
       "      <td>Agroecologia não é somente manejo. Ontem e Hoj...</td>\n",
       "      <td>https://twitter.com/bioconstrutora</td>\n",
       "      <td>https://twitter.com/bioconstrutora/status/1579...</td>\n",
       "    </tr>\n",
       "    <tr>\n",
       "      <th>3</th>\n",
       "      <td>2022-10-11 19:10:31+00:00</td>\n",
       "      <td>None</td>\n",
       "      <td>Confira o depoimento da aluna Olívia Nery (Tur...</td>\n",
       "      <td>https://twitter.com/FGVRI</td>\n",
       "      <td>https://twitter.com/FGVRI/status/1579912347757...</td>\n",
       "    </tr>\n",
       "    <tr>\n",
       "      <th>4</th>\n",
       "      <td>2022-10-11 18:27:38+00:00</td>\n",
       "      <td>None</td>\n",
       "      <td>O sensacional trabalho da equipe de Ciência de...</td>\n",
       "      <td>https://twitter.com/lmonasterio</td>\n",
       "      <td>https://twitter.com/lmonasterio/status/1579901...</td>\n",
       "    </tr>\n",
       "    <tr>\n",
       "      <th>...</th>\n",
       "      <td>...</td>\n",
       "      <td>...</td>\n",
       "      <td>...</td>\n",
       "      <td>...</td>\n",
       "      <td>...</td>\n",
       "    </tr>\n",
       "    <tr>\n",
       "      <th>222</th>\n",
       "      <td>2022-10-01 11:25:39+00:00</td>\n",
       "      <td>None</td>\n",
       "      <td>@DSFontes Esse debate eu nunca vi. Até onde eu...</td>\n",
       "      <td>https://twitter.com/leosbastos</td>\n",
       "      <td>https://twitter.com/leosbastos/status/15761714...</td>\n",
       "    </tr>\n",
       "    <tr>\n",
       "      <th>223</th>\n",
       "      <td>2022-10-01 10:26:30+00:00</td>\n",
       "      <td>None</td>\n",
       "      <td>@htpbrubs ciência de dados😏</td>\n",
       "      <td>https://twitter.com/taynarossauro</td>\n",
       "      <td>https://twitter.com/taynarossauro/status/15761...</td>\n",
       "    </tr>\n",
       "    <tr>\n",
       "      <th>224</th>\n",
       "      <td>2022-10-01 03:17:42+00:00</td>\n",
       "      <td>None</td>\n",
       "      <td>@paulodisfarce cara então, biblioteconomia é a...</td>\n",
       "      <td>https://twitter.com/_mazela</td>\n",
       "      <td>https://twitter.com/_mazela/status/15760486830...</td>\n",
       "    </tr>\n",
       "    <tr>\n",
       "      <th>225</th>\n",
       "      <td>2022-10-01 00:57:55+00:00</td>\n",
       "      <td>None</td>\n",
       "      <td>@danilucca1605 @Pedro_Barciela @FabioCesarNeve...</td>\n",
       "      <td>https://twitter.com/alessferreira1</td>\n",
       "      <td>https://twitter.com/alessferreira1/status/1576...</td>\n",
       "    </tr>\n",
       "    <tr>\n",
       "      <th>226</th>\n",
       "      <td>2022-10-01 00:08:09+00:00</td>\n",
       "      <td>None</td>\n",
       "      <td>direito ou ciência da computação/ciência de da...</td>\n",
       "      <td>https://twitter.com/neptsstudies</td>\n",
       "      <td>https://twitter.com/neptsstudies/status/157600...</td>\n",
       "    </tr>\n",
       "  </tbody>\n",
       "</table>\n",
       "<p>227 rows × 5 columns</p>\n",
       "</div>"
      ],
      "text/plain": [
       "                         date hashtags  \\\n",
       "0   2022-10-11 21:50:26+00:00     None   \n",
       "1   2022-10-11 21:43:12+00:00     None   \n",
       "2   2022-10-11 21:20:07+00:00     None   \n",
       "3   2022-10-11 19:10:31+00:00     None   \n",
       "4   2022-10-11 18:27:38+00:00     None   \n",
       "..                        ...      ...   \n",
       "222 2022-10-01 11:25:39+00:00     None   \n",
       "223 2022-10-01 10:26:30+00:00     None   \n",
       "224 2022-10-01 03:17:42+00:00     None   \n",
       "225 2022-10-01 00:57:55+00:00     None   \n",
       "226 2022-10-01 00:08:09+00:00     None   \n",
       "\n",
       "                                               content  \\\n",
       "0    @marcoslatino @Haddad_Fernando @avantiparmeira...   \n",
       "1    Cheque conheci aqui mesmo no Twitter, depois d...   \n",
       "2    Agroecologia não é somente manejo. Ontem e Hoj...   \n",
       "3    Confira o depoimento da aluna Olívia Nery (Tur...   \n",
       "4    O sensacional trabalho da equipe de Ciência de...   \n",
       "..                                                 ...   \n",
       "222  @DSFontes Esse debate eu nunca vi. Até onde eu...   \n",
       "223                        @htpbrubs ciência de dados😏   \n",
       "224  @paulodisfarce cara então, biblioteconomia é a...   \n",
       "225  @danilucca1605 @Pedro_Barciela @FabioCesarNeve...   \n",
       "226  direito ou ciência da computação/ciência de da...   \n",
       "\n",
       "                                   user  \\\n",
       "0        https://twitter.com/MARCIOSUGA   \n",
       "1    https://twitter.com/Israel_matusse   \n",
       "2    https://twitter.com/bioconstrutora   \n",
       "3             https://twitter.com/FGVRI   \n",
       "4       https://twitter.com/lmonasterio   \n",
       "..                                  ...   \n",
       "222      https://twitter.com/leosbastos   \n",
       "223   https://twitter.com/taynarossauro   \n",
       "224         https://twitter.com/_mazela   \n",
       "225  https://twitter.com/alessferreira1   \n",
       "226    https://twitter.com/neptsstudies   \n",
       "\n",
       "                                                   url  \n",
       "0    https://twitter.com/MARCIOSUGA/status/15799525...  \n",
       "1    https://twitter.com/Israel_matusse/status/1579...  \n",
       "2    https://twitter.com/bioconstrutora/status/1579...  \n",
       "3    https://twitter.com/FGVRI/status/1579912347757...  \n",
       "4    https://twitter.com/lmonasterio/status/1579901...  \n",
       "..                                                 ...  \n",
       "222  https://twitter.com/leosbastos/status/15761714...  \n",
       "223  https://twitter.com/taynarossauro/status/15761...  \n",
       "224  https://twitter.com/_mazela/status/15760486830...  \n",
       "225  https://twitter.com/alessferreira1/status/1576...  \n",
       "226  https://twitter.com/neptsstudies/status/157600...  \n",
       "\n",
       "[227 rows x 5 columns]"
      ]
     },
     "metadata": {},
     "output_type": "display_data"
    }
   ],
   "source": [
    "df = pd.DataFrame(list_search, columns = ['date', 'hashtags', 'content', 'user', 'url'])\n",
    "display(df)\n"
   ]
  },
  {
   "cell_type": "markdown",
   "metadata": {},
   "source": [
    "<p style = \"color:#BD2D87\">Exportação para csv"
   ]
  },
  {
   "cell_type": "code",
   "execution_count": 90,
   "metadata": {},
   "outputs": [],
   "source": [
    "#df.to_csv('tweet_df.csv')"
   ]
  }
 ],
 "metadata": {
  "kernelspec": {
   "display_name": "Python 3.9.12 ('base')",
   "language": "python",
   "name": "python3"
  },
  "language_info": {
   "codemirror_mode": {
    "name": "ipython",
    "version": 3
   },
   "file_extension": ".py",
   "mimetype": "text/x-python",
   "name": "python",
   "nbconvert_exporter": "python",
   "pygments_lexer": "ipython3",
   "version": "3.9.12"
  },
  "orig_nbformat": 4,
  "vscode": {
   "interpreter": {
    "hash": "321c287d430dfa74150ad4534669cee99e55d7b4b9f525e749a4a739721854ad"
   }
  }
 },
 "nbformat": 4,
 "nbformat_minor": 2
}
