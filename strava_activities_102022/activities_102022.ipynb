{
 "cells": [
  {
   "cell_type": "markdown",
   "metadata": {},
   "source": [
    "<h1><center>Extraindo Meus Dados Gerais do Strava"
   ]
  },
  {
   "cell_type": "markdown",
   "metadata": {},
   "source": [
    "Primeiro vamos importar o arquivo onde estão as informações, em formato texto, neste caso csv."
   ]
  },
  {
   "cell_type": "code",
   "execution_count": null,
   "metadata": {},
   "outputs": [],
   "source": [
    "import pandas as pd\n",
    "import datetime as dt\n",
    "\n",
    "df = pd.read_csv('./activities.csv')\n",
    "df"
   ]
  },
  {
   "cell_type": "code",
   "execution_count": null,
   "metadata": {},
   "outputs": [],
   "source": [
    "#df.columns.tolist()\n",
    "#print(list(df.columns))"
   ]
  },
  {
   "cell_type": "code",
   "execution_count": null,
   "metadata": {},
   "outputs": [],
   "source": [
    "df = df.dropna(how='all',axis=1)"
   ]
  },
  {
   "cell_type": "code",
   "execution_count": null,
   "metadata": {},
   "outputs": [],
   "source": [
    "df = df.drop(['Calories',\n",
    " 'Perceived Exertion',\n",
    " 'Prefer Perceived Exertion',\n",
    " 'Perceived Relative Effort'], axis=1)\n"
   ]
  },
  {
   "cell_type": "code",
   "execution_count": null,
   "metadata": {},
   "outputs": [],
   "source": [
    "df = df.drop(['Commute',\n",
    " 'Filename',\n",
    " 'Athlete Weight',\n",
    " 'Elapsed Time.1'],axis=1)"
   ]
  },
  {
   "cell_type": "code",
   "execution_count": null,
   "metadata": {},
   "outputs": [],
   "source": [
    "df = df.drop(['Activity Type'],axis=1)"
   ]
  },
  {
   "cell_type": "code",
   "execution_count": null,
   "metadata": {},
   "outputs": [],
   "source": [
    "df = df.drop(['Activity Name'],axis=1)"
   ]
  },
  {
   "cell_type": "code",
   "execution_count": null,
   "metadata": {},
   "outputs": [],
   "source": [
    "df = df.drop(['Activity Description'],axis=1)"
   ]
  },
  {
   "cell_type": "code",
   "execution_count": null,
   "metadata": {},
   "outputs": [],
   "source": [
    "df = df.drop(['<span class=\"translation_missing\" title=\"translation missing: en-US.lib.export.portability_exporter.activities.horton_values.flagged\">Flagged</span>',\n",
    " '<span class=\"translation_missing\" title=\"translation missing: en-US.lib.export.portability_exporter.activities.horton_values.avg_elapsed_speed\">Avg Elapsed Speed</span>',\n",
    " '<span class=\"translation_missing\" title=\"translation missing: en-US.lib.export.portability_exporter.activities.horton_values.dirt_distance\">Dirt Distance</span>'],axis=1)"
   ]
  },
  {
   "cell_type": "code",
   "execution_count": null,
   "metadata": {},
   "outputs": [],
   "source": [
    "df = df.drop(['Commute.1',\n",
    " 'From Upload',\n",
    " 'Grade Adjusted Distance'],axis=1)"
   ]
  },
  {
   "cell_type": "code",
   "execution_count": null,
   "metadata": {},
   "outputs": [],
   "source": [
    "df = df.drop(['Distance.1'],axis=1)"
   ]
  },
  {
   "cell_type": "code",
   "execution_count": null,
   "metadata": {},
   "outputs": [],
   "source": [
    "df = df.drop(['Max Grade', 'Average Grade'],axis=1)"
   ]
  },
  {
   "cell_type": "code",
   "execution_count": null,
   "metadata": {},
   "outputs": [],
   "source": [
    "#df.to_excel('Strava_activities_py.xlsx')"
   ]
  },
  {
   "cell_type": "code",
   "execution_count": null,
   "metadata": {},
   "outputs": [],
   "source": [
    "df"
   ]
  },
  {
   "cell_type": "markdown",
   "metadata": {},
   "source": [
    "================>>><<<<<>>>>><====================================>"
   ]
  },
  {
   "cell_type": "markdown",
   "metadata": {},
   "source": [
    "O Elapse Time e o moving Time estõ em segundos, então, é preciso converter para horas, minutos e Segundos"
   ]
  },
  {
   "cell_type": "code",
   "execution_count": null,
   "metadata": {},
   "outputs": [],
   "source": [
    "df_time = pd.DataFrame(columns=['Activity ID','Activity Date','Elapsed Time','Moving Time'])\n",
    "df_time['Activity ID'],df_time['Activity Date'], df_time['Elapsed Time'], df_time['Moving Time'] = df['Activity ID'],df['Activity Date'],df['Elapsed Time'],df['Moving Time']\n",
    "df_time"
   ]
  },
  {
   "cell_type": "markdown",
   "metadata": {},
   "source": [
    "O tempo está em segundos, então, podemos alterar para o formato H:M:S\n",
    "Já, as velocidades não estão em Km/h, nem em m/s - > para este caso, deveríamos multiplicar/dividir por 3,6\n",
    "Caso esteja em kts(Nó) multiplicamos por 1,852\n",
    "Caso seja mph multiplicamos por 1.61\n"
   ]
  },
  {
   "cell_type": "code",
   "execution_count": null,
   "metadata": {},
   "outputs": [],
   "source": [
    "df_speed = pd.DataFrame(columns=['Activity ID','Max Speed','Average Speed'])\n",
    "df_speed['Activity ID'], df_speed['Max Speed'], df_speed['Average Speed'] = df['Activity ID'],df['Max Speed'],df['Average Speed']\n",
    "df_speed"
   ]
  },
  {
   "cell_type": "code",
   "execution_count": null,
   "metadata": {},
   "outputs": [],
   "source": [
    "df_distance = pd.DataFrame(columns=['Activity ID', 'Distance'])\n",
    "df_distance['Activity ID'], df_distance['Distance'] = df['Activity ID'], df['Distance']\n",
    "df_distance"
   ]
  },
  {
   "cell_type": "code",
   "execution_count": null,
   "metadata": {},
   "outputs": [],
   "source": [
    "df_height = pd.DataFrame(columns=['Activity ID','Elevation Gain','Elevation Loss','Elevation Low','Elevation High'])\n",
    "df_height['Activity ID'], df_height['Elevation Gain'], df_height['Elevation Loss'], df_height['Elevation Low'], df_height['Elevation High'] = df['Activity ID'], df['Elevation Gain'], df['Elevation Loss'], df['Elevation Low'], df['Elevation High']\n",
    "df_height"
   ]
  },
  {
   "cell_type": "markdown",
   "metadata": {},
   "source": [
    "================>>>>>>>>>>>><<<<<<<<<<<<<<<<>>>>>>>>>><<<<<<<<<<<>>>>>>>>>>>>>>>>><============================================="
   ]
  },
  {
   "cell_type": "code",
   "execution_count": null,
   "metadata": {},
   "outputs": [],
   "source": [
    "\n",
    "df_time['Elapsed HMS'] = pd.to_timedelta(df_time['Elapsed Time'], unit='S')\n",
    "df_time['Moving HMS'] = pd.to_timedelta(df_time['Moving Time'], unit='s')\n",
    "df_time"
   ]
  }
 ],
 "metadata": {
  "kernelspec": {
   "display_name": "Python 3.9.12 ('base')",
   "language": "python",
   "name": "python3"
  },
  "language_info": {
   "codemirror_mode": {
    "name": "ipython",
    "version": 3
   },
   "file_extension": ".py",
   "mimetype": "text/x-python",
   "name": "python",
   "nbconvert_exporter": "python",
   "pygments_lexer": "ipython3",
   "version": "3.9.12"
  },
  "orig_nbformat": 4,
  "vscode": {
   "interpreter": {
    "hash": "321c287d430dfa74150ad4534669cee99e55d7b4b9f525e749a4a739721854ad"
   }
  }
 },
 "nbformat": 4,
 "nbformat_minor": 2
}
